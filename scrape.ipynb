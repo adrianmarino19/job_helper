{
 "cells": [
  {
   "cell_type": "code",
   "execution_count": 2,
   "metadata": {},
   "outputs": [
    {
     "name": "stderr",
     "output_type": "stream",
     "text": [
      "[nltk_data] Downloading package punkt_tab to /Users/adri/nltk_data...\n",
      "[nltk_data]   Package punkt_tab is already up-to-date!\n",
      "[nltk_data] Downloading package stopwords to /Users/adri/nltk_data...\n",
      "[nltk_data]   Package stopwords is already up-to-date!\n"
     ]
    }
   ],
   "source": [
    "import requests\n",
    "from bs4 import BeautifulSoup\n",
    "from urllib.parse import quote\n",
    "import nltk\n",
    "nltk.download('punkt_tab')\n",
    "nltk.download('stopwords')\n",
    "from nltk.tokenize import word_tokenize\n",
    "from nltk.corpus import stopwords"
   ]
  },
  {
   "cell_type": "code",
   "execution_count": 3,
   "metadata": {},
   "outputs": [],
   "source": [
    "from dotenv import load_dotenv\n",
    "load_dotenv()  # Loads variables from .env into os.environ\n",
    "\n",
    "import os\n",
    "GEM_KEY = os.environ.get(\"GEM_KEY\")\n",
    "DEEP_KEY = os.environ.get(\"DEEP_APIKEY\")\n",
    "HF_API_TOKEN = os.environ.get(\"HF_API_TOKEN\")"
   ]
  },
  {
   "cell_type": "markdown",
   "metadata": {},
   "source": [
    "# Beautiful Soup!"
   ]
  },
  {
   "cell_type": "code",
   "execution_count": 4,
   "metadata": {},
   "outputs": [
    {
     "name": "stdout",
     "output_type": "stream",
     "text": [
      "Scraping job list page: https://www.linkedin.com/jobs-guest/jobs/api/seeMoreJobPostings/search?keywords=Data%20Scientist&location=Amsterdam&f_WT=2&start=0\n",
      "{'title': 'React Developer (Freelance)', 'company': 'DevologyX', 'location': 'Amsterdam, North Holland, Netherlands', 'url': 'https://nl.linkedin.com/jobs/view/react-developer-freelance-at-devologyx-4172257107?position=1&pageNum=0&refId=2BDmXHbzFjXh27mP9UVA%2FQ%3D%3D&trackingId=xGv5h47UuV6y%2B5Ehnc9wPw%3D%3D', 'description': '12 Month Remote Contract , Possible Extension - Must EU Citizen , Occassional site visits Amsterdam ( Quarterly ) .We looking talented React Developer join client ’ insurance tech team.You responsible designing building high-performance , user-friendly web applications help insurers streamline claims processing , policy management , customer interactions.You ’ work alongside backend developers UX designers create seamless digital experiences insurance space.RESPONSIBILITIESDevelop responsive dynamic front-end applications using React.js.Collaborate UI/UX designers implement visually appealing interfaces.Optimize components maximum performance across devices browsers.Integrate frontend applications backend services using REST GraphQL APIs.Maintain high code quality unit testing code reviews.Work state management libraries Redux Zustand.REQUIREMENTSStrong experience React.js JavaScript/TypeScript.Proficiency HTML , CSS , responsive design principles.Experience integrating APIs using Axios , Fetch , GraphQL.Familiarity frontend build tools like Webpack Vite.Understanding Agile methodologies Git-based workflows.NICE HAVEFamiliarity insurance financial services applications.BENEFITSWork innovative digital transformation projects insurance sector.Competitive salary flexible work environment.Access cutting-edge tools technologies .'}\n",
      "{'title': 'AI/ML Engineer', 'company': 'Calyptus', 'location': 'Amsterdam, North Holland, Netherlands', 'url': 'https://nl.linkedin.com/jobs/view/ai-ml-engineer-at-calyptus-4173927821?position=2&pageNum=0&refId=2BDmXHbzFjXh27mP9UVA%2FQ%3D%3D&trackingId=1f1RiPtfM93OpFeQUwUCuw%3D%3D', 'description': 'role Calyptus partner.________________________________________________________________We ’ looking someone thrives new domains , excited opportunity take new challenges , contributes fresh ideas shape company roadmap . regularly explore new projects , work delivering fast iteration cycles , operate without clearly defined requirements.What ’ looking forExperience working LLMs using structured output , RAG workflows , tool calling , etc.Ability define create systems driven LLMsComfortable interacting smart contracts programmaticallyOpinionated framework usage designMost comfortable PythonOpen occasionally working ElixirWilling variety tasks move team forwardExperience interest perpetual futuresHistory Open Source Contributions____________________________________________________________________Calyptus employment platform professionals looking work Web3 .'}\n",
      "{'title': 'Python Developer (Freelance, 100% Remote)', 'company': 'DevologyX', 'location': 'Amsterdam, North Holland, Netherlands', 'url': 'https://nl.linkedin.com/jobs/view/python-developer-freelance-100%25-remote-at-devologyx-4166246717?position=3&pageNum=0&refId=2BDmXHbzFjXh27mP9UVA%2FQ%3D%3D&trackingId=%2BFmkHdYwxbfKekvYihG17g%3D%3D', 'description': 'ROLE OVERVIEW12 Month Contract , Fully Remote , Well Known FinTech Client , ASAP StartJoin client ’ FinTech development team Python Developer , focus building high-performance , scalable backend systems using FastAPI AWS.In role , develop APIs , integrate cloud-based services , collaborate data engineers DevOps specialists deploy solutions power modern financial services , fraud detection real-time transactions.KEY RESPONSIBILITIESDevelop , test , maintain backend Python applications using FastAPI.Design implement RESTful APIs financial data processing.Deploy manage solutions AWS using Lambda , S3 , DynamoDB , ECS.Collaborate DevOps engineers optimize CI/CD pipelines.Implement security best practices handling sensitive financial data.Work Agile team environment sprint planning daily standupsWHAT MAKE US HAPPY ? Strong proficiency Python FastAPI experience.Hands-on experience AWS ( Lambda , S3 , ECS , DynamoDB ) .Understanding microservices architecture API security.Experience PostgreSQL , Redis , similar databases.Knowledge CI/CD pipelines DevOps practices.NICE HAVEExposure machine learning models financial applications.Familiarity Kubernetes Terraform.Experience high-frequency real-time transaction processing .'}\n",
      "{'title': 'Senior Applied Scientist', 'company': 'Photoroom', 'location': 'Amsterdam, North Holland, Netherlands', 'url': 'https://nl.linkedin.com/jobs/view/senior-applied-scientist-at-photoroom-4173164634?position=4&pageNum=0&refId=2BDmXHbzFjXh27mP9UVA%2FQ%3D%3D&trackingId=g%2Fctw1KlxpqdrO%2Bw0NBQbg%3D%3D', 'description': \"✨ Us ✨Photoroom launched 2020 accepted Combinator become world 's popular AI photo editor past four years.Our mission clear : create best visuals commerce.Photoroom puts power great images people 's hands powerful innovative features , best-in-the-world background remover generative AI model tools : AI Images , AI Backgrounds Shadows , AI Expand , many more.Processing 5 billion images year downloaded 200 million times , Photoroom world 's # 1 AI photo-editing app , available across mobile , web , via API 180 countries.We exciting stage journey . successfully raised Series B , aim sustaining 80 % YoY growth.Photoroom profitable , remote-friendly company headquartered Paris global team 80 world-class deep learning , product , marketing experts backgrounds world 's best companies . diverse team entrepreneurs building entrepreneurs.TL ; DR 🤓Photoroom looking talented Senior Applied Scientist . work several ML solutions , starting requirements , literature , way product . process , trusted say data acquisition , optional labelling , overall strategy follow-ups . work serve millions users , useful remarked.💰 Competitive salary + Stock-Options/BSPCE🇪🇺 flexible : work anywhere Europe within 3-hour flight Paris ( HQ ) come office month ( fully reimbursed ) often . ensures effective collaboration supports commitment reducing carbon footprint.✈️ offer substantial support relocation ( 10k€ signing bonus ) , including finding apartment Paris supporting visa procedure.💻 Technology - new MacBook Pro , monitor , keyboard , etc.🏖️ Socials - Quarterly company retreats , weekly Happy Hour & Game Time🇬🇧 PhotoRoom international team work English . offer language lessons need ( English & French ) .✨ Role ✨You 'll ninth engineer ML team , working alongside great talent various backgrounds.You full ownership ML work streams applicable , work teammates big topics . expertise ownership ; say goes.You master whole pipeline , training models putting production monitoring performance.You work new features , new applications , 0→1 solutions.You get fast feedback users iterate quickly . follow usage product make decisions based that.You work within small multicultural team composed ~75 passionate , friendly & committed folks.✨ ✨You 3+ years experience PyTorch , Tensorflow Jax , willing start keep working PyTorch.You deep experience diffusion models , image creation edition * * . * * ’ trained diffusion models scratch , practiced deep surgery beyond original pre-training.You always pragmatic person room.You favor speed iteration perfect , always leverage frameworks libraries avoid reinventing wheel.You experience working products requiring complex architectures.You strong sense ownership.You take initiative ease make product & technical decisions.You worked part talented team experience fast-growing startup.You ’ curious , comfortable explaining learning depending situation . team deep expertise values knowledge sharing humility.You fluent English ( French required ! ) .✨ Hiring Process ✨Screening call Head AIHome technical assignment , reviewed teamCulture fit interview meet team ! Reference check & OfferSupport -If medical condition individual need adjustment process , believe may affect ability best - please let us know talk best support make adjustments may needed.🌈 Diversity , Equity , Inclusion BelongingWe committed enabling everyone feel included valued workplace . believe company culture strongest composed diverse experiences backgrounds.That 's : flexible working hoursWe trust people work remotelyWe extended length parental leaveAll qualified applicants receive consideration employment without regard age , color , family , gender identity , marital status , national origin , physical mental disability , sex ( including pregnancy ) , sexual orientation , characteristic protected applicable laws .\"}\n",
      "{'title': 'Machine Learning Engineer (NLP, Search & Recommendation)', 'company': 'Climatiq', 'location': 'Amsterdam Area', 'url': 'https://nl.linkedin.com/jobs/view/machine-learning-engineer-nlp-search-recommendation-at-climatiq-4175562820?position=5&pageNum=0&refId=2BDmXHbzFjXh27mP9UVA%2FQ%3D%3D&trackingId=p31I%2FYfhtvHOSo%2FxqXD7eA%3D%3D', 'description': \"ClimatiqWe fast-growing climate tech startup mission drive climate action data insight . team consists entrepreneurs , technologists , scientists come backgrounds Google , MIT , leading companies academic institutions . Together , building tech platform empowers organizations take action tackling climate crisis . powerful carbon calculation engine helps businesses embed emission metrics software already use accurately calculate continuously monitor carbon footprint drive better decisions.Our platform used tens thousands sustainability leaders worldwide , proud backed renowned international VCs investors climate-tech software sector . also certified B Corp , highlighting commitment balancing purpose profit . remote-first company , team spread across Berlin parts Europe , strong focus collaboration innovation.This exciting time join Climatiq . part real , technology-driven endeavor beginning . Work amazing team help build something meaningful together community.Job DescriptionWe looking experiencedMachine Learning Engineerwith focus onSearch , Recommendation Engines , Information RetrievalandText Classification . Reporting CTO , ’ collaborate team developers , scientists , climate experts improve critical AI-based features like Autopilot , heart mission tackle climate crisis . looking self driven engineers bring fresh ideas able develop product autonomously collaborative environment.Responsibilities : Design , develop , maintain critical features usingMachine Learning Models , NLP , Information Retrievaland relevant methodologies , powering infrastructure carbon intelligence globally across industries business activities products.Play key role delivering key data insights leading software platforms used largest enterprises across world , powering billions calculations critical environments via API , enhancing carbon visibility climate action organizations.Train , optimize , evaluateandexperimentwith various models ( e.g. , transformers , classifiers , encoders , LLMs ) improve key product metrics search recommendation engine top GHG emissions data.Maintain improve ourdata pipelines , ensuring data readiness modelling.Deploy maintain models production using technologies likeAWS SageMaker , flaskandpydantic.Required Qualifications:5+ yearsof experience inMachine Learning Engineering , domains ofSearch , ClassificationandInformation Retrieval.3+ yearsof experience inPython , building data pipelines andREST APIs.Self-driven comfortable working autonomously , excellent problem-solving skills.Strong written verbal communication skills , experience collaborating across remote teams , ensuring clear , effective , aligned outcomes.Preferred qualifications : Experience managingAWSinfrastructure plus.Prior experience withPostgreSQLis plus , especially production environment.Bachelor 's degree Computer Science , related technical field , equivalent practical experienceAdditional InformationLocation : Berlin Remote within +/- 2 hours CET timezoneStarting date : soon possibleHours : Full-time , flexible working hoursCompensation : Competitive salary benefits , including employee stock options , learning development stipend , regular team offsites , moreAs certified B Corp , Climatiq equal-opportunity employer welcome encourage candidates backgrounds experiences apply roles team . Send us CV short cover letter , highlighting skills experience , relevant advertised role .\"}\n",
      "{'title': 'Python Developer', 'company': 'InterEx Group', 'location': 'Almere, Flevoland, Netherlands', 'url': 'https://nl.linkedin.com/jobs/view/python-developer-at-interex-group-4146358507?position=6&pageNum=0&refId=2BDmXHbzFjXh27mP9UVA%2FQ%3D%3D&trackingId=V3aZWZje%2BOKfuGrFKYd5kA%3D%3D', 'description': 'role : team lead infrastructure data engineering team . insure full implementation software development life cycle must look team.Key Skills : Senior level Python developmentMust experience dataSQL , SALT Linux important rolePast experience leading team requiredEnglish fluency hard requirementDutch bonusAny experience machine learning AI bonusDetails : – Location : Almere– Duration : 12 months– Start date : ASAP– Number positions x1'}\n",
      "{'title': 'Evergreen position - Development', 'company': 'Beam', 'location': 'Amsterdam, North Holland, Netherlands', 'url': 'https://nl.linkedin.com/jobs/view/evergreen-position-development-at-beam-4176187327?position=7&pageNum=0&refId=2BDmXHbzFjXh27mP9UVA%2FQ%3D%3D&trackingId=0dXErqj1Pi%2BTWyqRnUhzHw%3D%3D', 'description': 'passionate developing cutting-edge technology gaming industry ? , invite join fully-remote team Merit Circle DAO . continually seeking new talent enhance Development team , focusing building products enhancing blockchain network , Beam , tailored gamers game developers.About RoleThis evergreen position designed grow talent pool future hiring needs . submitting application , considered talent pool . application suitable , included talent pool future openings arise . ensures pool talented candidates contact new opportunities become available . play crucial role creating implementing technical solutions support partners broader Merit Circle ecosystem . unique chance part fast-paced company forefront web3 gaming , collaborating innovative teams industry.For role , require candidates least 1 year experience development role within video games industry strong understanding Web3 technologies . responsible creating implementing technical solutions , troubleshooting debugging problems , ensuring software quality rigorous testing code reviews . lookout candidates proficient English , spoken written , strong problem-solving skills proactive approach . collaborate cross-functional teams , maintain technical documentation , employ Beam SDK develop tailored solutions partners.Your day-to-day activities team-member Development team include : Create implement clean , scalable codeTroubleshoot debug problems throughout application landscapeEnsure software quality code reviews , testing , adherence standards best practicesCollaborate departments communicate technical decisions requirementsCreate maintain technical documentation assist developers end-usersShip code regularly via automated systems CI/CD pipelinesMaintain manage partner relationships critical services Engineering departmentActively work partners deeply understand needs Web3 gaming landscapeEmploy Beam SDK craft solutions tailored specific challenges requirements partnerPartner Tier 1 clients co-develop integrate customized solutions gaming infrastructuresWork alongside internal teams ensure alignment partner solutions overarching product strategy , incorporating client feedback insightsFacilitate sharing insights learnings partners internal teams , contributing evolution Beam SDK integration capabilitiesRequirements1+ years experience working development position , preferably within web3 gaming organization.Above basic knowledge crypto industry , NFTs , blockchain technology , including smart contracts , understanding relevance application within gaming sectorStrong collaboration communication skills , capable working cross-functional teamsExcellent proficiency English , spoken written , clear effective communicationStrong problem-solving skills proactive approach identifying resolving technical challengesFamiliarity game development processes ability integrate web3 solutions seamlessly gaming environmentsExperience SDKs API integration , ensuring smooth efficient implementation solutionsAbility adapt fast-paced , ever-evolving industry stay updated latest trends technologies web3 gamingThese requirements essential success Development team . enable leverage technical expertise , collaborative skills , industry knowledge create innovative solutions , drive growth , contribute advancement organization Web3 game industry.BenefitsCompetitive salaryFully remote role full operation creative freedom - manage hours / work way suits , team partnersUnlimited vacation $ BEAM tokensRapid expansion valuable professional networkWork high-growth sector high-growth companyFun , innovative dynamic teamAnnual company retreatBudget towards learning development'}\n",
      "{'title': 'Data Engineer', 'company': 'Bookboost', 'location': 'Amsterdam, North Holland, Netherlands', 'url': 'https://nl.linkedin.com/jobs/view/data-engineer-at-bookboost-4174419976?position=8&pageNum=0&refId=2BDmXHbzFjXh27mP9UVA%2FQ%3D%3D&trackingId=aLfUliW%2BOeOho6C0l%2FzWlA%3D%3D', 'description': \"EngineeringReady help us shape future hospitality ? Bookboost , believe pushing boundaries . ’ CRM platform ; ’ transforming way hospitality brands connect guests . centralizing guest data simplifying communication , empower teams create meaningful interactions build lasting relationships throughout guest journey.As fast-growing company presence 20 countries , ’ redefining ’ possible hospitality tech . ’ ambitious , creative , ready make impact , ’ love join us . Excited ? Keep reading know more.About RoleLet ’ start basics : role actually involve ? ’ tough detail every single aspect – particularly growing company like Bookboost – ’ snapshot : firstData Engineeringhire Bookboost , play key role designing implementing infrastructure scale 100s GBs TBs data needs moved , transformed made available frontend application machine learning pipelines.In role , opportunity learn , grow experiment latest technologies serve hospitality industry-first use cases spanning analytical machine learning domains.What ’ DeliverCollaborating closely Product Engineering teams design , build , maintain scalable data pipelines infrastructure.Developing , deploying , monitoring data pipelines ingestion , transformation , storage high scale.Designing implementing tools abstractions top data infrastructure variety analytics , recommendations , machine learning use cases.Designing maintaining data orchestration streaming pipelines.Working closely product teams develop reusable data resources design patterns.What makes great fit ? ’ looking someone brings following table:4+ years industry experience data engineering.Strong programming data engineering skills , proficiency distributed data processing preferred ( AWS , PySpark ) .Strong quantitative skills experience estimating performance high scale.Familiarity cloud-based data services ( e.g. , AWS , RDS ) , containerized infrastructure ( e.g. , ECS , Docker ) , data movement ( Batch , CDC , Streamed/Batch Transformations ) .Self-motivated strong sense ownership systems designs.What ’ ? Joining Bookboost means job . ’ expect : Remote/flexible working ( 're 100 % hybrid-proof , ) option work home one hubs , close live.A work environment values ideas contributions , room creativity impact.Opportunities grow develop professionally fast-paced , innovative industry.Regular team events socials foster collaboration connection.Be part dynamic company shaping future hospitality.Who Bookboost ? pioneering B2B SaaS provider hospitality engagement space . platform empowers hotels design personalised guest journeys , automate communications , gain full visibility customer touchpoints . deep integrations hotel CRMs , multi-channel marketing , real-time data analytics , set new standard digital guest engagement . approach earned us reputation premium solution delivers measurable ROI sustained competitive advantage European market.Based Malmö , Sweden , hubs Amsterdam , Barcelona , Munich , London , embrace hybrid , remote-friendly culture . believe diversity innovation go hand-in-hand , ’ committed creating inclusive environment everyone thrive.Everyone welcome BookboostAt Bookboost , value individuality creativity . ’ building global team reflects diverse world serve . ’ passionate making difference eager contribute unique perspective , encourage apply – even ’ meet 100 % criteria.Ready join us ? Send us application today start journey Bookboost ! Interviews conducted ongoing basis , encourage apply soon possible .\"}\n",
      "{'title': 'AI Automation Lead', 'company': 'RemoFirst', 'location': 'Amsterdam, North Holland, Netherlands', 'url': 'https://nl.linkedin.com/jobs/view/ai-automation-lead-at-remofirst-4143052052?position=9&pageNum=0&refId=2BDmXHbzFjXh27mP9UVA%2FQ%3D%3D&trackingId=%2F3%2Bmcp3ehWAzb4iA8DUvlw%3D%3D', 'description': \"RemoFirstempowers employers free geographical boundaries accessing talent , allowing employees pursue opportunities wherever may exist . mission FIRST truly revolutionise industry generational company.Our platform offers full-range people management tool , employee benefits like health insurance , financial benefits , enables clients hire anyone anywhere one click . RemoFirst manages employees contractors Fortune 500 companies ( e.g. , Microsoft , Mastercard ) best startups worldwide ( e.g. , TransferGo ) .We small strong team 100+ people ( growing ) hyper-focused delivering world-class platform unparalleled service industry-leading partnerships.We seeking talented forward-thinkingAI Automation Leadto revolutionize RemoFirst leverages AI technologies . passion implementing cutting-edge tools , developing automation solutions , creating impactful systems transform knowledge management , role you.What 'll : Lead automation initiatives developing integrating AI tools tailored organizational needsResearch , customize , deploy AI technologies maximum efficiency value across teamsOptimize current functionalities using NLP , LLMs , automation frameworksConduct basic coding tasks ( Python , JavaScript ) build adapt AI-powered toolsImplement APIs effectively , translating outputs actionable insights teamsWork closely cross-functional teams understand challenges design AI-driven solutions aligned strategic goalsEnsure data governance auditing integrating data structures across AI toolsWhat ’ need : Technical Skills : Strong experience AI tools automation solutionsProficiency basic coding ( e.g. , Python , JavaScript ) tool developmentHands-on experience API implementation understanding outcomesAI Expertise : Proven ability design build chatbots AI systems solve real-world problemsKnowledge Management : knack organizing complex information structured , accessible formatsProblem-Solving : Exceptional analytical skills identify challenges develop innovative AI-driven solutionsHow ’ work : Upper-Intermediate English must.Excellent communication skills , ’ working many people world , ’ important us communicate , quickly adapt relay information different waysCollaborative : love work together sorts different people sorts different places . Everyone ’ opinion matters get job done.Strategic planning critical thinking help able anticipate issues affect successful outcomes approach challenges creative solutions help teams meet objectives.Decision-making . 'll discern pertinent information analyze different factors affect success business 's operations.Time Management : participating meetings , supporting customers internal teams ; throw time zones mix , ’ quite day . need good structuring work day tasks make sure accomplish things whilst maintaining work-life balanceWith Research skills ’ able gather , review analyze information relative stakeholders business find best solutionsIndependent autonomous : work , ’ naturally independent . much ’ connected also need use initiative solve problems get answers ; also means reaching us get help confirm solutionEmpathetic : need excellent people skills connect motivate others around . use empathic abilities handle sorts conversations multiple audiencesMotivated : want team passionate mission . Freedom work applies customers . Additionally , need motivation initiative identify and/or support tasks need improved without askedWhy work RemoFirst ? Startup environment . RemoFirst early-stage start-up . voice , influence grow rapidlyBuild & Scale Scratch . Experience hyper-growth scale help us build great team professionals worldwide help us achieve ambitious visionWork Market Leader . Scale project counts market-leading companies like Microsoft , Mastercard , happy customersCompensation perks great ! Competitive compensation . Work equipment . 100 % remote work.Generous PTO policy . Days based home country ’ local lawsCulture . lead respect , kindness , right fail . value hard , yet smart work . Diversity inclusion part DNA . grow evolve , welcome input help us define culture\"}\n",
      "{'title': 'Python and Kubernetes Software Engineer - Data, AI/ML & Analytics', 'company': 'Canonical', 'location': 'Amsterdam, North Holland, Netherlands', 'url': 'https://nl.linkedin.com/jobs/view/python-and-kubernetes-software-engineer-data-ai-ml-analytics-at-canonical-4148915202?position=10&pageNum=0&refId=2BDmXHbzFjXh27mP9UVA%2FQ%3D%3D&trackingId=k2YKl1Rlsg3i745JUHHvwg%3D%3D', 'description': \"Canonical leading provider open source software operating systems global enterprise technology markets . platform , Ubuntu , widely used breakthrough enterprise initiatives public cloud , data science , AI , engineering innovation IoT . customers include world 's leading public cloud silicon providers , industry leaders many sectors . company pioneer global distributed collaboration , 1000+ colleagues 70+ countries roles based offices . Teams meet two four times yearly person , interesting locations around world , align strategy execution.The company founder led , profitable growing . hiringPython Kubernetes Specialist Engineers focused Data , AI/ML Analytics Solutionsto join teams building open source solutions public cloud private infrastructure.As software engineer team , 'll collaborate end-to-end data analytics mlops solution composed popular , open-source , machine learning tools , Kubeflow , MLFlow , DVC , Feast . may also work workflow , ETL , data governance visualization tools like Apache SuperSet , dbt , Temporal , data warehouse solutions Apache Trino , ClickHouse . team solution analytics machine learning space , integrate solutions teams build world 's best end-to-end data platform . solutions may run servers cloud , machines Kubernetes , developer desktops , web services.We serve needs individuals community members much needs Global 2000 Fortune 500 customers ; make primary work available free charge Pro subscriptions also available individuals personal use cost . goal enable people enjoy benefits open source , regardless circumstances.Location : initiative spans many teams home-based multiple time zones . believe distributed collaboration also try ensure colleagues company work hourse ! Successful candidates join team members manager broadly time zone benefits constant collaboration discussion.What day look likeDevelop understanding entire Linux stack , kernel , networking , storage , application layerDesign , build maintain solutions deployed public private clouds local workstationsMaster distributed systems concepts observability , identity , tracingWork Kubernetes machine-oriented open source applicationsCollaborate proactively distributed team engineers , designers product managersDebug issues interact public upstream Ubuntu communitiesGenerate discuss ideas , collaborate finding good solutionsWhat looking youProfessional academic software delivery using PythonExceptional academic track record high school universityUndergraduate degree technical subject compelling narrative alternative chosen pathConfidence respectfully speak , exchange feedback , share ideas without hesitationTrack record going above-and-beyond expectations achieve outstanding resultsPassion technology evidenced personal projects initiativesThe work ethic confidence shine alongside motivated colleaguesProfessional written spoken English excellent presentation skillsExperience Linux ( Debian Ubuntu preferred ) Excellent interpersonal skills , curiosity , flexibility , accountabilityAppreciative diversity , polite effective multi-cultural , multi-national organisationThoughtfulness self-motivationResult-oriented , personal drive meet commitmentsAbility travel twice year , company events two weeks longAdditional Skills Would Nice HaveThe following skills may helpful role , n't expect everyone bring them.Hands-on experience machine learning libraries , tools.Proven track record building highly automated machine learning solutions cloud.Experience container technologies ( Docker , LXD , Kubernetes , etc . ) Experience public clouds ( AWS , Azure , Google Cloud ) Working knowledge cloud computingPassionate software quality testingExperience working open source projectWhat offer colleaguesWe consider geographical location , experience , performance shaping compensation worldwide . revisit compensation annually ( often graduates associates ) ensure recognise outstanding performance . addition base pay , offer performance-driven annual bonus commission . provide team members additional benefits , reflect values ideals . balance programs meet local needs ensure fairness globally.Distributed work environment twice-yearly team sprints personPersonal learning development budget USD 2,000 per yearAnnual compensation reviewRecognition rewardsAnnual holiday leaveMaternity paternity leaveEmployee Assistance ProgrammeOpportunity travel new locations meet colleaguesPriority Pass , travel upgrades long haul company eventsAbout CanonicalCanonical pioneering tech firm forefront global move open source . company publishes Ubuntu , one important open source projects platform AI , IoT cloud , changing world software . recruit global basis set high standard people joining company . expect excellence - order succeed , need best . colleagues Canonical worked home since inception 2004 . Working step future , challenge think differently , work smarter , learn new skills , raise game.Canonical equal opportunity employerWe proud foster workplace free discrimination . Diversity experience , perspectives , background create better work environment better products . Whatever identity , give application fair consideration .\"}\n"
     ]
    }
   ],
   "source": [
    "# Function to scrape the job descriptions.\n",
    "\n",
    "def remove_stopwords(text):\n",
    "    \"\"\"Remove stopwords from a given text using NLTK.\"\"\"\n",
    "    tokens = word_tokenize(text)\n",
    "    stop_words = set(stopwords.words('english'))\n",
    "    filtered_tokens = [token for token in tokens if token.lower() not in stop_words]\n",
    "    return ' '.join(filtered_tokens)\n",
    "\n",
    "def scrape_jobs_with_descriptions(keywords, location, f_WT, pages_to_scrape, headers):\n",
    "    keywords_encoded = quote(keywords)\n",
    "    location_encoded = quote(location)\n",
    "    jobs = []\n",
    "\n",
    "    for page in range(pages_to_scrape):\n",
    "        # LinkedIn URL for job search\n",
    "        url = f\"https://www.linkedin.com/jobs-guest/jobs/api/seeMoreJobPostings/search?keywords={keywords_encoded}&location={location_encoded}&f_WT={f_WT}&start={25 * page}\"\n",
    "        print(f\"Scraping job list page: {url}\")\n",
    "\n",
    "        # Make a GET request\n",
    "        response = requests.get(url, headers=headers)\n",
    "        if response.status_code != 200:\n",
    "            print(f\"Failed to fetch page {page + 1}: {response.status_code}\")\n",
    "            continue\n",
    "\n",
    "        # Parse the HTML\n",
    "        soup = BeautifulSoup(response.content, \"html.parser\")\n",
    "        divs = soup.find_all(\"div\", class_=\"base-card\")\n",
    "\n",
    "        for div in divs:\n",
    "            try:\n",
    "                # Extract job title, company, location\n",
    "                title = div.find(\"h3\", class_=\"base-search-card__title\").text.strip()\n",
    "                company = div.find(\"h4\", class_=\"base-search-card__subtitle\").text.strip()\n",
    "                location = div.find(\"span\", class_=\"job-search-card__location\").text.strip()\n",
    "\n",
    "                # Extract the job URL from the <a> tag with the class \"base-card__full-link\"\n",
    "                job_link_tag = div.find(\"a\", class_=\"base-card__full-link\")\n",
    "                job_url = job_link_tag[\"href\"] if job_link_tag else \"No URL found\"\n",
    "\n",
    "                # Fetch the job description from the job URL\n",
    "                job_description = fetch_job_description(job_url, headers) if job_url != \"No URL found\" else \"No description available\"\n",
    "                job_description = remove_stopwords(job_description)\n",
    "\n",
    "\n",
    "                # Add job details to the list\n",
    "                jobs.append({\n",
    "                    \"title\": title,\n",
    "                    \"company\": company,\n",
    "                    \"location\": location,\n",
    "                    \"url\": job_url,\n",
    "                    \"description\": job_description\n",
    "                })\n",
    "            except Exception as e:\n",
    "                print(f\"Error parsing job: {e}\")\n",
    "\n",
    "    return jobs\n",
    "\n",
    "def fetch_job_description(job_url, headers):\n",
    "    \"\"\"Fetch job description from individual job posting.\"\"\"\n",
    "    try:\n",
    "        response = requests.get(job_url, headers=headers)\n",
    "        if response.status_code != 200:\n",
    "            print(f\"Failed to fetch job page: {job_url}\")\n",
    "            return \"Failed to fetch job description\"\n",
    "        soup = BeautifulSoup(response.content, \"html.parser\")\n",
    "        description_div = soup.find(\"div\", class_=\"show-more-less-html__markup\")\n",
    "        if description_div:\n",
    "            return description_div.get_text(strip=True).replace(\"\\n\", \" \")\n",
    "        return \"No description available\"\n",
    "    except Exception as e:\n",
    "        print(f\"Error fetching job description: {e}\")\n",
    "        return \"Error fetching job description\"\n",
    "\n",
    "# Configuration\n",
    "headers = {\n",
    "    \"User-Agent\": \"Mozilla/5.0 (Windows NT 10.0; Win64; x64) AppleWebKit/537.36 (KHTML, like Gecko) Chrome/91.0.4472.124 Safari/537.36\"\n",
    "}\n",
    "keywords = \"Data Scientist\"\n",
    "location = \"Amsterdam\"\n",
    "f_WT = \"2\"  # Remote jobs\n",
    "pages_to_scrape = 1  # Number of pages to scrape\n",
    "\n",
    "# Run the scraper and stores it in a list of dictionaries. Each entry includes:\n",
    "jobs_with_descriptions = scrape_jobs_with_descriptions(keywords, location, f_WT, pages_to_scrape, headers)\n",
    "\n",
    "# Print job details\n",
    "for job in jobs_with_descriptions:\n",
    "    print(job)"
   ]
  },
  {
   "cell_type": "code",
   "execution_count": 5,
   "metadata": {},
   "outputs": [
    {
     "data": {
      "text/plain": [
       "147"
      ]
     },
     "execution_count": 5,
     "metadata": {},
     "output_type": "execute_result"
    }
   ],
   "source": [
    "len(word_tokenize((jobs_with_descriptions[0]['description'])))"
   ]
  },
  {
   "cell_type": "code",
   "execution_count": 6,
   "metadata": {},
   "outputs": [
    {
     "data": {
      "text/plain": [
       "10"
      ]
     },
     "execution_count": 6,
     "metadata": {},
     "output_type": "execute_result"
    }
   ],
   "source": [
    "len(jobs_with_descriptions)"
   ]
  },
  {
   "cell_type": "code",
   "execution_count": 7,
   "metadata": {},
   "outputs": [
    {
     "data": {
      "text/html": [
       "\n",
       "<div style=\"border: 1px solid #ddd; padding: 15px; border-radius: 5px; margin: 10px 0;\n",
       "            font-family: Arial, sans-serif; line-height: 1.6; white-space: pre-wrap; background-color: #f9f9f9;\">\n",
       "    <h3 style=\"margin-top: 0; font-size: 16px; color: #333;\">Job Description</h3>\n",
       "    <p style=\"margin: 0;\">12 Month Remote Contract , Possible Extension - Must EU Citizen , Occassional site visits Amsterdam ( Quarterly ) .We looking talented React Developer join client ’ insurance tech team.You responsible designing building high-performance , user-friendly web applications help insurers streamline claims processing , policy management , customer interactions.You ’ work alongside backend developers UX designers create seamless digital experiences insurance space.RESPONSIBILITIESDevelop responsive dynamic front-end applications using React.js.Collaborate UI/UX designers implement visually appealing interfaces.Optimize components maximum performance across devices browsers.Integrate frontend applications backend services using REST GraphQL APIs.Maintain high code quality unit testing code reviews.Work state management libraries Redux Zustand.REQUIREMENTSStrong experience React.js JavaScript/TypeScript.Proficiency HTML , CSS , responsive design principles.Experience integrating APIs using Axios , Fetch , GraphQL.Familiarity frontend build tools like Webpack Vite.Understanding Agile methodologies Git-based workflows.NICE HAVEFamiliarity insurance financial services applications.BENEFITSWork innovative digital transformation projects insurance sector.Competitive salary flexible work environment.Access cutting-edge tools technologies .</p>\n",
       "</div>\n"
      ],
      "text/plain": [
       "<IPython.core.display.HTML object>"
      ]
     },
     "metadata": {},
     "output_type": "display_data"
    }
   ],
   "source": [
    "from IPython.display import display, HTML\n",
    "\n",
    "# Display the first job description in a styled block\n",
    "description = jobs_with_descriptions[0]['description']\n",
    "html_block = f\"\"\"\n",
    "<div style=\"border: 1px solid #ddd; padding: 15px; border-radius: 5px; margin: 10px 0;\n",
    "            font-family: Arial, sans-serif; line-height: 1.6; white-space: pre-wrap; background-color: #f9f9f9;\">\n",
    "    <h3 style=\"margin-top: 0; font-size: 16px; color: #333;\">Job Description</h3>\n",
    "    <p style=\"margin: 0;\">{description}</p>\n",
    "</div>\n",
    "\"\"\"\n",
    "\n",
    "display(HTML(html_block))"
   ]
  },
  {
   "cell_type": "markdown",
   "metadata": {},
   "source": [
    "# Gemini"
   ]
  },
  {
   "cell_type": "code",
   "execution_count": 8,
   "metadata": {},
   "outputs": [
    {
     "data": {
      "text/plain": [
       "'12 Month Remote Contract , Possible Extension - Must EU Citizen , Occassional site visits Amsterdam ( Quarterly ) .We looking talented React Developer join client ’ insurance tech team.You responsible designing building high-performance , user-friendly web applications help insurers streamline claims processing , policy management , customer interactions.You ’ work alongside backend developers UX designers create seamless digital experiences insurance space.RESPONSIBILITIESDevelop responsive dynamic front-end applications using React.js.Collaborate UI/UX designers implement visually appealing interfaces.Optimize components maximum performance across devices browsers.Integrate frontend applications backend services using REST GraphQL APIs.Maintain high code quality unit testing code reviews.Work state management libraries Redux Zustand.REQUIREMENTSStrong experience React.js JavaScript/TypeScript.Proficiency HTML , CSS , responsive design principles.Experience integrating APIs using Axios , Fetch , GraphQL.Familiarity frontend build tools like Webpack Vite.Understanding Agile methodologies Git-based workflows.NICE HAVEFamiliarity insurance financial services applications.BENEFITSWork innovative digital transformation projects insurance sector.Competitive salary flexible work environment.Access cutting-edge tools technologies .'"
      ]
     },
     "execution_count": 8,
     "metadata": {},
     "output_type": "execute_result"
    }
   ],
   "source": [
    "jobs_with_descriptions[0]['description']"
   ]
  },
  {
   "cell_type": "code",
   "execution_count": 9,
   "metadata": {},
   "outputs": [],
   "source": [
    "# let's try it with one job description\n",
    "\n",
    "from google import genai\n",
    "\n",
    "client = genai.Client(api_key=GEM_KEY)\n",
    "\n",
    "# prompt = (\n",
    "#     f\"Extract the relevant hard skills and soft skills from the following job description: {jobs_with_descriptions[0]['description']}. \"\n",
    "#     \"Return only a valid JSON object with exactly two keys: 'hard_skills' and 'soft_skills', where each key maps to an array of strings. \"\n",
    "#     \"Ensure you only output the JSON object in the following format (example): {{\\\"hard_skills\\\": [\\\"skill1\\\", \\\"skill2\\\"], \\\"soft_skills\\\": [\\\"skillA\\\", \\\"skillB\\\"]}}. \"\n",
    "#     \"Do not include any markdown formatting, triple backticks, or any extra text. Only output the JSON object.\"\n",
    "# )\n",
    "\n",
    "prompt = f'''Extract the relevant hard skills and soft skills from the following job description. For hard skills, make sure to include programming languages, libraries, technologies mentioned.\n",
    "            Return only a valid JSON object with exactly two keys: 'hard_skills' and 'soft_skills', where each key maps to an array of strings. Ensure you only output the JSON object in the following format (example): {{\\\"hard_skills\\\": [\\\"skill1\\\", \\\"skill2\\\"], \\\"soft_skills\\\": [\\\"skillA\\\", \\\"skillB\\\"]}}. Do not include any markdown formatting, triple backticks, or any extra text. Only output the JSON object.)\n",
    "            # Description: {jobs_with_descriptions[0]['description']}'''"
   ]
  },
  {
   "cell_type": "code",
   "execution_count": 10,
   "metadata": {},
   "outputs": [
    {
     "data": {
      "text/plain": [
       "'{\"hard_skills\": [\"React.js\", \"JavaScript\", \"TypeScript\", \"HTML\", \"CSS\", \"REST APIs\", \"GraphQL\", \"Redux\", \"Zustand\", \"Webpack\", \"Vite\", \"Axios\", \"Fetch\", \"Git\"], \"soft_skills\": [\"Collaboration\", \"Communication\", \"Problem-solving\"]}\\n'"
      ]
     },
     "execution_count": 10,
     "metadata": {},
     "output_type": "execute_result"
    }
   ],
   "source": [
    "# Available models:\n",
    "# model='gemini-2.0-flash-lite-preview-02-05',\n",
    "\n",
    "response = client.models.generate_content(\n",
    "    model=\"gemini-2.0-flash\",\n",
    "    contents=prompt)\n",
    "\n",
    "response.text"
   ]
  },
  {
   "cell_type": "code",
   "execution_count": 12,
   "metadata": {},
   "outputs": [
    {
     "name": "stdout",
     "output_type": "stream",
     "text": [
      "Aggregated Hard Skills:\n",
      "           Skill  Frequency\n",
      "0       react.js          1\n",
      "1     javascript          2\n",
      "2     typescript          1\n",
      "3           html          1\n",
      "4            css          1\n",
      "..           ...        ...\n",
      "68    clickhouse          1\n",
      "69         linux          1\n",
      "70           lxd          1\n",
      "71         azure          1\n",
      "72  google cloud          1\n",
      "\n",
      "[73 rows x 2 columns]\n",
      "\n",
      "Aggregated Soft Skills:\n",
      "                         Skill  Frequency\n",
      "0            responsive design          1\n",
      "1          agile methodologies          1\n",
      "2                collaboration          7\n",
      "3                communication          9\n",
      "4              problem-solving          6\n",
      "5                     teamwork          3\n",
      "6                 adaptability          3\n",
      "7                   innovation          2\n",
      "8              framework usage          1\n",
      "9                        agile          1\n",
      "10  microservices architecture          1\n",
      "11                  pragmatism          1\n",
      "12                   ownership          2\n",
      "13                  initiative          1\n",
      "14                   curiosity          1\n",
      "15                    humility          1\n",
      "16                 self-driven          1\n",
      "17                  autonomous          2\n",
      "18                  leadership          1\n",
      "19                   proactive          1\n",
      "20           analytical skills          1\n",
      "21              self-motivated          1\n",
      "22          strategic planning          1\n",
      "23           critical thinking          1\n",
      "24             decision-making          1\n",
      "25             time management          1\n",
      "26                    research          1\n",
      "27                  empathetic          1\n",
      "28                   motivated          1\n",
      "29                     respect          1\n",
      "30                    feedback          1\n",
      "31              thoughtfulness          1\n",
      "32             self-motivation          1\n",
      "33            results-oriented          1\n",
      "34               interpersonal          1\n",
      "35              accountability          1\n",
      "36                   diversity          1\n",
      "37                 flexibility          1\n"
     ]
    }
   ],
   "source": [
    "from google import genai\n",
    "import json\n",
    "from collections import Counter\n",
    "import pandas as pd\n",
    "import plotly.express as px\n",
    "\n",
    "# Initialize the Gemini client\n",
    "client = genai.Client(api_key=GEM_KEY)\n",
    "\n",
    "def clean_json_output(response_text):\n",
    "    \"\"\"\n",
    "    Remove markdown formatting (triple backticks and '```json' label)\n",
    "    and return a clean JSON string.\n",
    "    \"\"\"\n",
    "    response_text = response_text.strip()\n",
    "    if response_text.startswith(\"```json\"):\n",
    "        response_text = response_text[len(\"```json\"):].strip()\n",
    "    if response_text.endswith(\"```\"):\n",
    "        response_text = response_text[:-len(\"```\")].strip()\n",
    "    return response_text\n",
    "\n",
    "def batch_jobs(jobs, batch_size):\n",
    "    \"\"\"Yield successive batches from the jobs list.\"\"\"\n",
    "    for i in range(0, len(jobs), batch_size):\n",
    "        yield jobs[i:i + batch_size]\n",
    "\n",
    "extracted_skills = []\n",
    "\n",
    "# ----- UPDATED CODE: Batch Size Calculation -----\n",
    "# Assuming pages_to_scrape is 10 (as defined earlier) and jobs are evenly distributed:\n",
    "jobs_per_page = len(jobs_with_descriptions) // pages_to_scrape\n",
    "batch_size = jobs_per_page * 2  # Two pages per batch\n",
    "# ----- END OF UPDATED CODE -----\n",
    "\n",
    "for batch in batch_jobs(jobs_with_descriptions, batch_size):\n",
    "    # Combine the job descriptions using a clear delimiter.\n",
    "    descriptions = \"\\n---\\n\".join(job['description'] for job in batch)\n",
    "    prompt = (\n",
    "        \"Below are several job descriptions separated by '---'. \"\n",
    "        \"For each job description, extract the relevant hard skills and soft skills. \"\n",
    "        \"For hard skills, include programming languages, libraries, and technologies mentioned. \"\n",
    "        \"Return a JSON array where each element is an object with exactly two keys: \"\n",
    "        \"'hard_skills' and 'soft_skills', mapping to arrays of strings. \"\n",
    "        \"Only output the JSON array with no extra text or markdown formatting.\\n\\n\" +\n",
    "        descriptions\n",
    "    )\n",
    "\n",
    "    response = client.models.generate_content(\n",
    "        # model='gemini-2.0-flash-lite-preview-02-05',\n",
    "        model=\"gemini-2.0-flash\",\n",
    "        contents=prompt\n",
    "    )\n",
    "\n",
    "    cleaned = clean_json_output(response.text)\n",
    "\n",
    "    try:\n",
    "        # Expecting a JSON array with one element per job description in the batch\n",
    "        batch_parsed = json.loads(cleaned)\n",
    "\n",
    "        # Optional: Check if the parsed array has the same number of elements as the batch.\n",
    "        if not isinstance(batch_parsed, list) or len(batch_parsed) != len(batch):\n",
    "            print(\"Warning: The parsed output count does not match the number of job descriptions in the batch.\")\n",
    "\n",
    "        # Normalize skills to lowercase for consistency.\n",
    "        for job_skills in batch_parsed:\n",
    "            if \"hard_skills\" in job_skills:\n",
    "                job_skills[\"hard_skills\"] = [skill.lower() for skill in job_skills[\"hard_skills\"]]\n",
    "            if \"soft_skills\" in job_skills:\n",
    "                job_skills[\"soft_skills\"] = [skill.lower() for skill in job_skills[\"soft_skills\"]]\n",
    "        extracted_skills.extend(batch_parsed)\n",
    "    except Exception as e:\n",
    "        print(\"Error parsing batched JSON:\", e)\n",
    "\n",
    "# Aggregate the skills across all processed job descriptions.\n",
    "hard_skills_counter = Counter()\n",
    "soft_skills_counter = Counter()\n",
    "\n",
    "for skills in extracted_skills:\n",
    "    if \"hard_skills\" in skills:\n",
    "        hard_skills_counter.update(skills[\"hard_skills\"])\n",
    "    if \"soft_skills\" in skills:\n",
    "        soft_skills_counter.update(skills[\"soft_skills\"])\n",
    "\n",
    "# Create DataFrames for visualization.\n",
    "df_hard = pd.DataFrame(hard_skills_counter.items(), columns=[\"Skill\", \"Frequency\"])\n",
    "df_soft = pd.DataFrame(soft_skills_counter.items(), columns=[\"Skill\", \"Frequency\"])\n",
    "\n",
    "print(\"Aggregated Hard Skills:\")\n",
    "print(df_hard)\n",
    "print(\"\\nAggregated Soft Skills:\")\n",
    "print(df_soft)\n"
   ]
  },
  {
   "cell_type": "code",
   "execution_count": 13,
   "metadata": {},
   "outputs": [
    {
     "data": {
      "application/vnd.plotly.v1+json": {
       "config": {
        "plotlyServerURL": "https://plot.ly"
       },
       "data": [
        {
         "hovertemplate": "Hard Skill=%{x}<br>Count=%{marker.color}<extra></extra>",
         "legendgroup": "",
         "marker": {
          "color": {
           "bdata": "BgQDAwICAgICAgICAgIBAQEBAQEBAQEBAQEBAQEBAQEBAQEBAQEBAQEBAQEBAQEBAQEBAQEBAQEBAQEBAQEBAQEBAQEBAQEBAQ==",
           "dtype": "i1"
          },
          "coloraxis": "coloraxis",
          "pattern": {
           "shape": ""
          }
         },
         "name": "",
         "orientation": "v",
         "showlegend": false,
         "textposition": "auto",
         "type": "bar",
         "x": [
          "python",
          "machine learning",
          "llms",
          "aws",
          "postgresql",
          "ecs",
          "docker",
          "kubernetes",
          "smart contracts",
          "apis",
          "nlp",
          "ai",
          "javascript",
          "rest apis",
          "beam sdk",
          "web3 technologies",
          "sdks",
          "data",
          "nfts",
          "salt linux",
          "blockchain",
          "sql",
          "encoders",
          "pyspark",
          "data pipelines",
          "rds",
          "transformers",
          "cloud-based data services",
          "kubeflow",
          "mlflow",
          "dvc",
          "feast",
          "apache superset",
          "dbt",
          "temporal",
          "apache trino",
          "clickhouse",
          "linux",
          "lxd",
          "azure",
          "classifiers",
          "react.js",
          "pydantic",
          "s3",
          "typescript",
          "html",
          "css",
          "graphql",
          "axios",
          "fetch",
          "webpack",
          "vite",
          "git",
          "rag",
          "elixir",
          "fastapi",
          "lambda",
          "dynamodb",
          "flask",
          "restful apis",
          "redis",
          "ci/cd",
          "terraform",
          "pytorch",
          "tensorflow",
          "jax",
          "diffusion models",
          "ml",
          "machine learning models",
          "information retrieval",
          "text classification",
          "aws sagemaker",
          "google cloud"
         ],
         "xaxis": "x",
         "y": {
          "bdata": "BgQDAwICAgICAgICAgIBAQEBAQEBAQEBAQEBAQEBAQEBAQEBAQEBAQEBAQEBAQEBAQEBAQEBAQEBAQEBAQEBAQEBAQEBAQEBAQ==",
          "dtype": "i1"
         },
         "yaxis": "y"
        }
       ],
       "layout": {
        "barmode": "relative",
        "coloraxis": {
         "colorbar": {
          "title": {
           "text": "Count"
          }
         },
         "colorscale": [
          [
           0,
           "rgb(247,251,255)"
          ],
          [
           0.125,
           "rgb(222,235,247)"
          ],
          [
           0.25,
           "rgb(198,219,239)"
          ],
          [
           0.375,
           "rgb(158,202,225)"
          ],
          [
           0.5,
           "rgb(107,174,214)"
          ],
          [
           0.625,
           "rgb(66,146,198)"
          ],
          [
           0.75,
           "rgb(33,113,181)"
          ],
          [
           0.875,
           "rgb(8,81,156)"
          ],
          [
           1,
           "rgb(8,48,107)"
          ]
         ]
        },
        "legend": {
         "tracegroupgap": 0
        },
        "template": {
         "data": {
          "bar": [
           {
            "error_x": {
             "color": "#2a3f5f"
            },
            "error_y": {
             "color": "#2a3f5f"
            },
            "marker": {
             "line": {
              "color": "#E5ECF6",
              "width": 0.5
             },
             "pattern": {
              "fillmode": "overlay",
              "size": 10,
              "solidity": 0.2
             }
            },
            "type": "bar"
           }
          ],
          "barpolar": [
           {
            "marker": {
             "line": {
              "color": "#E5ECF6",
              "width": 0.5
             },
             "pattern": {
              "fillmode": "overlay",
              "size": 10,
              "solidity": 0.2
             }
            },
            "type": "barpolar"
           }
          ],
          "carpet": [
           {
            "aaxis": {
             "endlinecolor": "#2a3f5f",
             "gridcolor": "white",
             "linecolor": "white",
             "minorgridcolor": "white",
             "startlinecolor": "#2a3f5f"
            },
            "baxis": {
             "endlinecolor": "#2a3f5f",
             "gridcolor": "white",
             "linecolor": "white",
             "minorgridcolor": "white",
             "startlinecolor": "#2a3f5f"
            },
            "type": "carpet"
           }
          ],
          "choropleth": [
           {
            "colorbar": {
             "outlinewidth": 0,
             "ticks": ""
            },
            "type": "choropleth"
           }
          ],
          "contour": [
           {
            "colorbar": {
             "outlinewidth": 0,
             "ticks": ""
            },
            "colorscale": [
             [
              0,
              "#0d0887"
             ],
             [
              0.1111111111111111,
              "#46039f"
             ],
             [
              0.2222222222222222,
              "#7201a8"
             ],
             [
              0.3333333333333333,
              "#9c179e"
             ],
             [
              0.4444444444444444,
              "#bd3786"
             ],
             [
              0.5555555555555556,
              "#d8576b"
             ],
             [
              0.6666666666666666,
              "#ed7953"
             ],
             [
              0.7777777777777778,
              "#fb9f3a"
             ],
             [
              0.8888888888888888,
              "#fdca26"
             ],
             [
              1,
              "#f0f921"
             ]
            ],
            "type": "contour"
           }
          ],
          "contourcarpet": [
           {
            "colorbar": {
             "outlinewidth": 0,
             "ticks": ""
            },
            "type": "contourcarpet"
           }
          ],
          "heatmap": [
           {
            "colorbar": {
             "outlinewidth": 0,
             "ticks": ""
            },
            "colorscale": [
             [
              0,
              "#0d0887"
             ],
             [
              0.1111111111111111,
              "#46039f"
             ],
             [
              0.2222222222222222,
              "#7201a8"
             ],
             [
              0.3333333333333333,
              "#9c179e"
             ],
             [
              0.4444444444444444,
              "#bd3786"
             ],
             [
              0.5555555555555556,
              "#d8576b"
             ],
             [
              0.6666666666666666,
              "#ed7953"
             ],
             [
              0.7777777777777778,
              "#fb9f3a"
             ],
             [
              0.8888888888888888,
              "#fdca26"
             ],
             [
              1,
              "#f0f921"
             ]
            ],
            "type": "heatmap"
           }
          ],
          "histogram": [
           {
            "marker": {
             "pattern": {
              "fillmode": "overlay",
              "size": 10,
              "solidity": 0.2
             }
            },
            "type": "histogram"
           }
          ],
          "histogram2d": [
           {
            "colorbar": {
             "outlinewidth": 0,
             "ticks": ""
            },
            "colorscale": [
             [
              0,
              "#0d0887"
             ],
             [
              0.1111111111111111,
              "#46039f"
             ],
             [
              0.2222222222222222,
              "#7201a8"
             ],
             [
              0.3333333333333333,
              "#9c179e"
             ],
             [
              0.4444444444444444,
              "#bd3786"
             ],
             [
              0.5555555555555556,
              "#d8576b"
             ],
             [
              0.6666666666666666,
              "#ed7953"
             ],
             [
              0.7777777777777778,
              "#fb9f3a"
             ],
             [
              0.8888888888888888,
              "#fdca26"
             ],
             [
              1,
              "#f0f921"
             ]
            ],
            "type": "histogram2d"
           }
          ],
          "histogram2dcontour": [
           {
            "colorbar": {
             "outlinewidth": 0,
             "ticks": ""
            },
            "colorscale": [
             [
              0,
              "#0d0887"
             ],
             [
              0.1111111111111111,
              "#46039f"
             ],
             [
              0.2222222222222222,
              "#7201a8"
             ],
             [
              0.3333333333333333,
              "#9c179e"
             ],
             [
              0.4444444444444444,
              "#bd3786"
             ],
             [
              0.5555555555555556,
              "#d8576b"
             ],
             [
              0.6666666666666666,
              "#ed7953"
             ],
             [
              0.7777777777777778,
              "#fb9f3a"
             ],
             [
              0.8888888888888888,
              "#fdca26"
             ],
             [
              1,
              "#f0f921"
             ]
            ],
            "type": "histogram2dcontour"
           }
          ],
          "mesh3d": [
           {
            "colorbar": {
             "outlinewidth": 0,
             "ticks": ""
            },
            "type": "mesh3d"
           }
          ],
          "parcoords": [
           {
            "line": {
             "colorbar": {
              "outlinewidth": 0,
              "ticks": ""
             }
            },
            "type": "parcoords"
           }
          ],
          "pie": [
           {
            "automargin": true,
            "type": "pie"
           }
          ],
          "scatter": [
           {
            "fillpattern": {
             "fillmode": "overlay",
             "size": 10,
             "solidity": 0.2
            },
            "type": "scatter"
           }
          ],
          "scatter3d": [
           {
            "line": {
             "colorbar": {
              "outlinewidth": 0,
              "ticks": ""
             }
            },
            "marker": {
             "colorbar": {
              "outlinewidth": 0,
              "ticks": ""
             }
            },
            "type": "scatter3d"
           }
          ],
          "scattercarpet": [
           {
            "marker": {
             "colorbar": {
              "outlinewidth": 0,
              "ticks": ""
             }
            },
            "type": "scattercarpet"
           }
          ],
          "scattergeo": [
           {
            "marker": {
             "colorbar": {
              "outlinewidth": 0,
              "ticks": ""
             }
            },
            "type": "scattergeo"
           }
          ],
          "scattergl": [
           {
            "marker": {
             "colorbar": {
              "outlinewidth": 0,
              "ticks": ""
             }
            },
            "type": "scattergl"
           }
          ],
          "scattermap": [
           {
            "marker": {
             "colorbar": {
              "outlinewidth": 0,
              "ticks": ""
             }
            },
            "type": "scattermap"
           }
          ],
          "scattermapbox": [
           {
            "marker": {
             "colorbar": {
              "outlinewidth": 0,
              "ticks": ""
             }
            },
            "type": "scattermapbox"
           }
          ],
          "scatterpolar": [
           {
            "marker": {
             "colorbar": {
              "outlinewidth": 0,
              "ticks": ""
             }
            },
            "type": "scatterpolar"
           }
          ],
          "scatterpolargl": [
           {
            "marker": {
             "colorbar": {
              "outlinewidth": 0,
              "ticks": ""
             }
            },
            "type": "scatterpolargl"
           }
          ],
          "scatterternary": [
           {
            "marker": {
             "colorbar": {
              "outlinewidth": 0,
              "ticks": ""
             }
            },
            "type": "scatterternary"
           }
          ],
          "surface": [
           {
            "colorbar": {
             "outlinewidth": 0,
             "ticks": ""
            },
            "colorscale": [
             [
              0,
              "#0d0887"
             ],
             [
              0.1111111111111111,
              "#46039f"
             ],
             [
              0.2222222222222222,
              "#7201a8"
             ],
             [
              0.3333333333333333,
              "#9c179e"
             ],
             [
              0.4444444444444444,
              "#bd3786"
             ],
             [
              0.5555555555555556,
              "#d8576b"
             ],
             [
              0.6666666666666666,
              "#ed7953"
             ],
             [
              0.7777777777777778,
              "#fb9f3a"
             ],
             [
              0.8888888888888888,
              "#fdca26"
             ],
             [
              1,
              "#f0f921"
             ]
            ],
            "type": "surface"
           }
          ],
          "table": [
           {
            "cells": {
             "fill": {
              "color": "#EBF0F8"
             },
             "line": {
              "color": "white"
             }
            },
            "header": {
             "fill": {
              "color": "#C8D4E3"
             },
             "line": {
              "color": "white"
             }
            },
            "type": "table"
           }
          ]
         },
         "layout": {
          "annotationdefaults": {
           "arrowcolor": "#2a3f5f",
           "arrowhead": 0,
           "arrowwidth": 1
          },
          "autotypenumbers": "strict",
          "coloraxis": {
           "colorbar": {
            "outlinewidth": 0,
            "ticks": ""
           }
          },
          "colorscale": {
           "diverging": [
            [
             0,
             "#8e0152"
            ],
            [
             0.1,
             "#c51b7d"
            ],
            [
             0.2,
             "#de77ae"
            ],
            [
             0.3,
             "#f1b6da"
            ],
            [
             0.4,
             "#fde0ef"
            ],
            [
             0.5,
             "#f7f7f7"
            ],
            [
             0.6,
             "#e6f5d0"
            ],
            [
             0.7,
             "#b8e186"
            ],
            [
             0.8,
             "#7fbc41"
            ],
            [
             0.9,
             "#4d9221"
            ],
            [
             1,
             "#276419"
            ]
           ],
           "sequential": [
            [
             0,
             "#0d0887"
            ],
            [
             0.1111111111111111,
             "#46039f"
            ],
            [
             0.2222222222222222,
             "#7201a8"
            ],
            [
             0.3333333333333333,
             "#9c179e"
            ],
            [
             0.4444444444444444,
             "#bd3786"
            ],
            [
             0.5555555555555556,
             "#d8576b"
            ],
            [
             0.6666666666666666,
             "#ed7953"
            ],
            [
             0.7777777777777778,
             "#fb9f3a"
            ],
            [
             0.8888888888888888,
             "#fdca26"
            ],
            [
             1,
             "#f0f921"
            ]
           ],
           "sequentialminus": [
            [
             0,
             "#0d0887"
            ],
            [
             0.1111111111111111,
             "#46039f"
            ],
            [
             0.2222222222222222,
             "#7201a8"
            ],
            [
             0.3333333333333333,
             "#9c179e"
            ],
            [
             0.4444444444444444,
             "#bd3786"
            ],
            [
             0.5555555555555556,
             "#d8576b"
            ],
            [
             0.6666666666666666,
             "#ed7953"
            ],
            [
             0.7777777777777778,
             "#fb9f3a"
            ],
            [
             0.8888888888888888,
             "#fdca26"
            ],
            [
             1,
             "#f0f921"
            ]
           ]
          },
          "colorway": [
           "#636efa",
           "#EF553B",
           "#00cc96",
           "#ab63fa",
           "#FFA15A",
           "#19d3f3",
           "#FF6692",
           "#B6E880",
           "#FF97FF",
           "#FECB52"
          ],
          "font": {
           "color": "#2a3f5f"
          },
          "geo": {
           "bgcolor": "white",
           "lakecolor": "white",
           "landcolor": "#E5ECF6",
           "showlakes": true,
           "showland": true,
           "subunitcolor": "white"
          },
          "hoverlabel": {
           "align": "left"
          },
          "hovermode": "closest",
          "mapbox": {
           "style": "light"
          },
          "paper_bgcolor": "white",
          "plot_bgcolor": "#E5ECF6",
          "polar": {
           "angularaxis": {
            "gridcolor": "white",
            "linecolor": "white",
            "ticks": ""
           },
           "bgcolor": "#E5ECF6",
           "radialaxis": {
            "gridcolor": "white",
            "linecolor": "white",
            "ticks": ""
           }
          },
          "scene": {
           "xaxis": {
            "backgroundcolor": "#E5ECF6",
            "gridcolor": "white",
            "gridwidth": 2,
            "linecolor": "white",
            "showbackground": true,
            "ticks": "",
            "zerolinecolor": "white"
           },
           "yaxis": {
            "backgroundcolor": "#E5ECF6",
            "gridcolor": "white",
            "gridwidth": 2,
            "linecolor": "white",
            "showbackground": true,
            "ticks": "",
            "zerolinecolor": "white"
           },
           "zaxis": {
            "backgroundcolor": "#E5ECF6",
            "gridcolor": "white",
            "gridwidth": 2,
            "linecolor": "white",
            "showbackground": true,
            "ticks": "",
            "zerolinecolor": "white"
           }
          },
          "shapedefaults": {
           "line": {
            "color": "#2a3f5f"
           }
          },
          "ternary": {
           "aaxis": {
            "gridcolor": "white",
            "linecolor": "white",
            "ticks": ""
           },
           "baxis": {
            "gridcolor": "white",
            "linecolor": "white",
            "ticks": ""
           },
           "bgcolor": "#E5ECF6",
           "caxis": {
            "gridcolor": "white",
            "linecolor": "white",
            "ticks": ""
           }
          },
          "title": {
           "x": 0.05
          },
          "xaxis": {
           "automargin": true,
           "gridcolor": "white",
           "linecolor": "white",
           "ticks": "",
           "title": {
            "standoff": 15
           },
           "zerolinecolor": "white",
           "zerolinewidth": 2
          },
          "yaxis": {
           "automargin": true,
           "gridcolor": "white",
           "linecolor": "white",
           "ticks": "",
           "title": {
            "standoff": 15
           },
           "zerolinecolor": "white",
           "zerolinewidth": 2
          }
         }
        },
        "title": {
         "text": "Top Hard Skills"
        },
        "xaxis": {
         "anchor": "y",
         "domain": [
          0,
          1
         ],
         "tickangle": -45,
         "title": {
          "text": "Hard Skill"
         }
        },
        "yaxis": {
         "anchor": "x",
         "domain": [
          0,
          1
         ],
         "title": {
          "text": "Count"
         }
        }
       }
      }
     },
     "metadata": {},
     "output_type": "display_data"
    },
    {
     "data": {
      "application/vnd.plotly.v1+json": {
       "config": {
        "plotlyServerURL": "https://plot.ly"
       },
       "data": [
        {
         "hovertemplate": "Soft Skill=%{x}<br>Count=%{marker.color}<extra></extra>",
         "legendgroup": "",
         "marker": {
          "color": {
           "bdata": "CQcGAwMCAgIBAQEBAQEBAQEBAQEBAQEBAQEBAQEBAQEBAQEBAQE=",
           "dtype": "i1"
          },
          "coloraxis": "coloraxis",
          "pattern": {
           "shape": ""
          }
         },
         "name": "",
         "orientation": "v",
         "showlegend": false,
         "textposition": "auto",
         "type": "bar",
         "x": [
          "communication",
          "collaboration",
          "problem-solving",
          "teamwork",
          "adaptability",
          "innovation",
          "ownership",
          "autonomous",
          "responsive design",
          "feedback",
          "time management",
          "research",
          "empathetic",
          "motivated",
          "respect",
          "results-oriented",
          "thoughtfulness",
          "self-motivation",
          "critical thinking",
          "interpersonal",
          "accountability",
          "diversity",
          "decision-making",
          "proactive",
          "strategic planning",
          "self-motivated",
          "analytical skills",
          "agile methodologies",
          "leadership",
          "self-driven",
          "humility",
          "curiosity",
          "initiative",
          "pragmatism",
          "microservices architecture",
          "agile",
          "framework usage",
          "flexibility"
         ],
         "xaxis": "x",
         "y": {
          "bdata": "CQcGAwMCAgIBAQEBAQEBAQEBAQEBAQEBAQEBAQEBAQEBAQEBAQE=",
          "dtype": "i1"
         },
         "yaxis": "y"
        }
       ],
       "layout": {
        "barmode": "relative",
        "coloraxis": {
         "colorbar": {
          "title": {
           "text": "Count"
          }
         },
         "colorscale": [
          [
           0,
           "rgb(247,251,255)"
          ],
          [
           0.125,
           "rgb(222,235,247)"
          ],
          [
           0.25,
           "rgb(198,219,239)"
          ],
          [
           0.375,
           "rgb(158,202,225)"
          ],
          [
           0.5,
           "rgb(107,174,214)"
          ],
          [
           0.625,
           "rgb(66,146,198)"
          ],
          [
           0.75,
           "rgb(33,113,181)"
          ],
          [
           0.875,
           "rgb(8,81,156)"
          ],
          [
           1,
           "rgb(8,48,107)"
          ]
         ]
        },
        "legend": {
         "tracegroupgap": 0
        },
        "template": {
         "data": {
          "bar": [
           {
            "error_x": {
             "color": "#2a3f5f"
            },
            "error_y": {
             "color": "#2a3f5f"
            },
            "marker": {
             "line": {
              "color": "#E5ECF6",
              "width": 0.5
             },
             "pattern": {
              "fillmode": "overlay",
              "size": 10,
              "solidity": 0.2
             }
            },
            "type": "bar"
           }
          ],
          "barpolar": [
           {
            "marker": {
             "line": {
              "color": "#E5ECF6",
              "width": 0.5
             },
             "pattern": {
              "fillmode": "overlay",
              "size": 10,
              "solidity": 0.2
             }
            },
            "type": "barpolar"
           }
          ],
          "carpet": [
           {
            "aaxis": {
             "endlinecolor": "#2a3f5f",
             "gridcolor": "white",
             "linecolor": "white",
             "minorgridcolor": "white",
             "startlinecolor": "#2a3f5f"
            },
            "baxis": {
             "endlinecolor": "#2a3f5f",
             "gridcolor": "white",
             "linecolor": "white",
             "minorgridcolor": "white",
             "startlinecolor": "#2a3f5f"
            },
            "type": "carpet"
           }
          ],
          "choropleth": [
           {
            "colorbar": {
             "outlinewidth": 0,
             "ticks": ""
            },
            "type": "choropleth"
           }
          ],
          "contour": [
           {
            "colorbar": {
             "outlinewidth": 0,
             "ticks": ""
            },
            "colorscale": [
             [
              0,
              "#0d0887"
             ],
             [
              0.1111111111111111,
              "#46039f"
             ],
             [
              0.2222222222222222,
              "#7201a8"
             ],
             [
              0.3333333333333333,
              "#9c179e"
             ],
             [
              0.4444444444444444,
              "#bd3786"
             ],
             [
              0.5555555555555556,
              "#d8576b"
             ],
             [
              0.6666666666666666,
              "#ed7953"
             ],
             [
              0.7777777777777778,
              "#fb9f3a"
             ],
             [
              0.8888888888888888,
              "#fdca26"
             ],
             [
              1,
              "#f0f921"
             ]
            ],
            "type": "contour"
           }
          ],
          "contourcarpet": [
           {
            "colorbar": {
             "outlinewidth": 0,
             "ticks": ""
            },
            "type": "contourcarpet"
           }
          ],
          "heatmap": [
           {
            "colorbar": {
             "outlinewidth": 0,
             "ticks": ""
            },
            "colorscale": [
             [
              0,
              "#0d0887"
             ],
             [
              0.1111111111111111,
              "#46039f"
             ],
             [
              0.2222222222222222,
              "#7201a8"
             ],
             [
              0.3333333333333333,
              "#9c179e"
             ],
             [
              0.4444444444444444,
              "#bd3786"
             ],
             [
              0.5555555555555556,
              "#d8576b"
             ],
             [
              0.6666666666666666,
              "#ed7953"
             ],
             [
              0.7777777777777778,
              "#fb9f3a"
             ],
             [
              0.8888888888888888,
              "#fdca26"
             ],
             [
              1,
              "#f0f921"
             ]
            ],
            "type": "heatmap"
           }
          ],
          "histogram": [
           {
            "marker": {
             "pattern": {
              "fillmode": "overlay",
              "size": 10,
              "solidity": 0.2
             }
            },
            "type": "histogram"
           }
          ],
          "histogram2d": [
           {
            "colorbar": {
             "outlinewidth": 0,
             "ticks": ""
            },
            "colorscale": [
             [
              0,
              "#0d0887"
             ],
             [
              0.1111111111111111,
              "#46039f"
             ],
             [
              0.2222222222222222,
              "#7201a8"
             ],
             [
              0.3333333333333333,
              "#9c179e"
             ],
             [
              0.4444444444444444,
              "#bd3786"
             ],
             [
              0.5555555555555556,
              "#d8576b"
             ],
             [
              0.6666666666666666,
              "#ed7953"
             ],
             [
              0.7777777777777778,
              "#fb9f3a"
             ],
             [
              0.8888888888888888,
              "#fdca26"
             ],
             [
              1,
              "#f0f921"
             ]
            ],
            "type": "histogram2d"
           }
          ],
          "histogram2dcontour": [
           {
            "colorbar": {
             "outlinewidth": 0,
             "ticks": ""
            },
            "colorscale": [
             [
              0,
              "#0d0887"
             ],
             [
              0.1111111111111111,
              "#46039f"
             ],
             [
              0.2222222222222222,
              "#7201a8"
             ],
             [
              0.3333333333333333,
              "#9c179e"
             ],
             [
              0.4444444444444444,
              "#bd3786"
             ],
             [
              0.5555555555555556,
              "#d8576b"
             ],
             [
              0.6666666666666666,
              "#ed7953"
             ],
             [
              0.7777777777777778,
              "#fb9f3a"
             ],
             [
              0.8888888888888888,
              "#fdca26"
             ],
             [
              1,
              "#f0f921"
             ]
            ],
            "type": "histogram2dcontour"
           }
          ],
          "mesh3d": [
           {
            "colorbar": {
             "outlinewidth": 0,
             "ticks": ""
            },
            "type": "mesh3d"
           }
          ],
          "parcoords": [
           {
            "line": {
             "colorbar": {
              "outlinewidth": 0,
              "ticks": ""
             }
            },
            "type": "parcoords"
           }
          ],
          "pie": [
           {
            "automargin": true,
            "type": "pie"
           }
          ],
          "scatter": [
           {
            "fillpattern": {
             "fillmode": "overlay",
             "size": 10,
             "solidity": 0.2
            },
            "type": "scatter"
           }
          ],
          "scatter3d": [
           {
            "line": {
             "colorbar": {
              "outlinewidth": 0,
              "ticks": ""
             }
            },
            "marker": {
             "colorbar": {
              "outlinewidth": 0,
              "ticks": ""
             }
            },
            "type": "scatter3d"
           }
          ],
          "scattercarpet": [
           {
            "marker": {
             "colorbar": {
              "outlinewidth": 0,
              "ticks": ""
             }
            },
            "type": "scattercarpet"
           }
          ],
          "scattergeo": [
           {
            "marker": {
             "colorbar": {
              "outlinewidth": 0,
              "ticks": ""
             }
            },
            "type": "scattergeo"
           }
          ],
          "scattergl": [
           {
            "marker": {
             "colorbar": {
              "outlinewidth": 0,
              "ticks": ""
             }
            },
            "type": "scattergl"
           }
          ],
          "scattermap": [
           {
            "marker": {
             "colorbar": {
              "outlinewidth": 0,
              "ticks": ""
             }
            },
            "type": "scattermap"
           }
          ],
          "scattermapbox": [
           {
            "marker": {
             "colorbar": {
              "outlinewidth": 0,
              "ticks": ""
             }
            },
            "type": "scattermapbox"
           }
          ],
          "scatterpolar": [
           {
            "marker": {
             "colorbar": {
              "outlinewidth": 0,
              "ticks": ""
             }
            },
            "type": "scatterpolar"
           }
          ],
          "scatterpolargl": [
           {
            "marker": {
             "colorbar": {
              "outlinewidth": 0,
              "ticks": ""
             }
            },
            "type": "scatterpolargl"
           }
          ],
          "scatterternary": [
           {
            "marker": {
             "colorbar": {
              "outlinewidth": 0,
              "ticks": ""
             }
            },
            "type": "scatterternary"
           }
          ],
          "surface": [
           {
            "colorbar": {
             "outlinewidth": 0,
             "ticks": ""
            },
            "colorscale": [
             [
              0,
              "#0d0887"
             ],
             [
              0.1111111111111111,
              "#46039f"
             ],
             [
              0.2222222222222222,
              "#7201a8"
             ],
             [
              0.3333333333333333,
              "#9c179e"
             ],
             [
              0.4444444444444444,
              "#bd3786"
             ],
             [
              0.5555555555555556,
              "#d8576b"
             ],
             [
              0.6666666666666666,
              "#ed7953"
             ],
             [
              0.7777777777777778,
              "#fb9f3a"
             ],
             [
              0.8888888888888888,
              "#fdca26"
             ],
             [
              1,
              "#f0f921"
             ]
            ],
            "type": "surface"
           }
          ],
          "table": [
           {
            "cells": {
             "fill": {
              "color": "#EBF0F8"
             },
             "line": {
              "color": "white"
             }
            },
            "header": {
             "fill": {
              "color": "#C8D4E3"
             },
             "line": {
              "color": "white"
             }
            },
            "type": "table"
           }
          ]
         },
         "layout": {
          "annotationdefaults": {
           "arrowcolor": "#2a3f5f",
           "arrowhead": 0,
           "arrowwidth": 1
          },
          "autotypenumbers": "strict",
          "coloraxis": {
           "colorbar": {
            "outlinewidth": 0,
            "ticks": ""
           }
          },
          "colorscale": {
           "diverging": [
            [
             0,
             "#8e0152"
            ],
            [
             0.1,
             "#c51b7d"
            ],
            [
             0.2,
             "#de77ae"
            ],
            [
             0.3,
             "#f1b6da"
            ],
            [
             0.4,
             "#fde0ef"
            ],
            [
             0.5,
             "#f7f7f7"
            ],
            [
             0.6,
             "#e6f5d0"
            ],
            [
             0.7,
             "#b8e186"
            ],
            [
             0.8,
             "#7fbc41"
            ],
            [
             0.9,
             "#4d9221"
            ],
            [
             1,
             "#276419"
            ]
           ],
           "sequential": [
            [
             0,
             "#0d0887"
            ],
            [
             0.1111111111111111,
             "#46039f"
            ],
            [
             0.2222222222222222,
             "#7201a8"
            ],
            [
             0.3333333333333333,
             "#9c179e"
            ],
            [
             0.4444444444444444,
             "#bd3786"
            ],
            [
             0.5555555555555556,
             "#d8576b"
            ],
            [
             0.6666666666666666,
             "#ed7953"
            ],
            [
             0.7777777777777778,
             "#fb9f3a"
            ],
            [
             0.8888888888888888,
             "#fdca26"
            ],
            [
             1,
             "#f0f921"
            ]
           ],
           "sequentialminus": [
            [
             0,
             "#0d0887"
            ],
            [
             0.1111111111111111,
             "#46039f"
            ],
            [
             0.2222222222222222,
             "#7201a8"
            ],
            [
             0.3333333333333333,
             "#9c179e"
            ],
            [
             0.4444444444444444,
             "#bd3786"
            ],
            [
             0.5555555555555556,
             "#d8576b"
            ],
            [
             0.6666666666666666,
             "#ed7953"
            ],
            [
             0.7777777777777778,
             "#fb9f3a"
            ],
            [
             0.8888888888888888,
             "#fdca26"
            ],
            [
             1,
             "#f0f921"
            ]
           ]
          },
          "colorway": [
           "#636efa",
           "#EF553B",
           "#00cc96",
           "#ab63fa",
           "#FFA15A",
           "#19d3f3",
           "#FF6692",
           "#B6E880",
           "#FF97FF",
           "#FECB52"
          ],
          "font": {
           "color": "#2a3f5f"
          },
          "geo": {
           "bgcolor": "white",
           "lakecolor": "white",
           "landcolor": "#E5ECF6",
           "showlakes": true,
           "showland": true,
           "subunitcolor": "white"
          },
          "hoverlabel": {
           "align": "left"
          },
          "hovermode": "closest",
          "mapbox": {
           "style": "light"
          },
          "paper_bgcolor": "white",
          "plot_bgcolor": "#E5ECF6",
          "polar": {
           "angularaxis": {
            "gridcolor": "white",
            "linecolor": "white",
            "ticks": ""
           },
           "bgcolor": "#E5ECF6",
           "radialaxis": {
            "gridcolor": "white",
            "linecolor": "white",
            "ticks": ""
           }
          },
          "scene": {
           "xaxis": {
            "backgroundcolor": "#E5ECF6",
            "gridcolor": "white",
            "gridwidth": 2,
            "linecolor": "white",
            "showbackground": true,
            "ticks": "",
            "zerolinecolor": "white"
           },
           "yaxis": {
            "backgroundcolor": "#E5ECF6",
            "gridcolor": "white",
            "gridwidth": 2,
            "linecolor": "white",
            "showbackground": true,
            "ticks": "",
            "zerolinecolor": "white"
           },
           "zaxis": {
            "backgroundcolor": "#E5ECF6",
            "gridcolor": "white",
            "gridwidth": 2,
            "linecolor": "white",
            "showbackground": true,
            "ticks": "",
            "zerolinecolor": "white"
           }
          },
          "shapedefaults": {
           "line": {
            "color": "#2a3f5f"
           }
          },
          "ternary": {
           "aaxis": {
            "gridcolor": "white",
            "linecolor": "white",
            "ticks": ""
           },
           "baxis": {
            "gridcolor": "white",
            "linecolor": "white",
            "ticks": ""
           },
           "bgcolor": "#E5ECF6",
           "caxis": {
            "gridcolor": "white",
            "linecolor": "white",
            "ticks": ""
           }
          },
          "title": {
           "x": 0.05
          },
          "xaxis": {
           "automargin": true,
           "gridcolor": "white",
           "linecolor": "white",
           "ticks": "",
           "title": {
            "standoff": 15
           },
           "zerolinecolor": "white",
           "zerolinewidth": 2
          },
          "yaxis": {
           "automargin": true,
           "gridcolor": "white",
           "linecolor": "white",
           "ticks": "",
           "title": {
            "standoff": 15
           },
           "zerolinecolor": "white",
           "zerolinewidth": 2
          }
         }
        },
        "title": {
         "text": "Top Soft Skills"
        },
        "xaxis": {
         "anchor": "y",
         "domain": [
          0,
          1
         ],
         "tickangle": -45,
         "title": {
          "text": "Soft Skill"
         }
        },
        "yaxis": {
         "anchor": "x",
         "domain": [
          0,
          1
         ],
         "title": {
          "text": "Count"
         }
        }
       }
      }
     },
     "metadata": {},
     "output_type": "display_data"
    }
   ],
   "source": [
    "# Visualization with Plotly.\n",
    "df_hard_sorted = df_hard.sort_values(\"Frequency\", ascending=False)\n",
    "df_soft_sorted = df_soft.sort_values(\"Frequency\", ascending=False)\n",
    "\n",
    "fig_hard = px.bar(\n",
    "    df_hard_sorted,\n",
    "    x=\"Skill\",\n",
    "    y=\"Frequency\",\n",
    "    title=\"Top Hard Skills\",\n",
    "    labels={\"Skill\": \"Hard Skill\", \"Frequency\": \"Count\"},\n",
    "    color=\"Frequency\",\n",
    "    color_continuous_scale=\"Blues\"\n",
    ")\n",
    "fig_hard.update_layout(xaxis_tickangle=-45)\n",
    "fig_hard.show()\n",
    "\n",
    "fig_soft = px.bar(\n",
    "    df_soft_sorted,\n",
    "    x=\"Skill\",\n",
    "    y=\"Frequency\",\n",
    "    title=\"Top Soft Skills\",\n",
    "    labels={\"Skill\": \"Soft Skill\", \"Frequency\": \"Count\"},\n",
    "    color=\"Frequency\",\n",
    "    color_continuous_scale=\"Blues\"\n",
    ")\n",
    "fig_soft.update_layout(xaxis_tickangle=-45)\n",
    "fig_soft.show()"
   ]
  },
  {
   "cell_type": "code",
   "execution_count": 14,
   "metadata": {},
   "outputs": [
    {
     "data": {
      "text/html": [
       "<div>\n",
       "<style scoped>\n",
       "    .dataframe tbody tr th:only-of-type {\n",
       "        vertical-align: middle;\n",
       "    }\n",
       "\n",
       "    .dataframe tbody tr th {\n",
       "        vertical-align: top;\n",
       "    }\n",
       "\n",
       "    .dataframe thead th {\n",
       "        text-align: right;\n",
       "    }\n",
       "</style>\n",
       "<table border=\"1\" class=\"dataframe\">\n",
       "  <thead>\n",
       "    <tr style=\"text-align: right;\">\n",
       "      <th></th>\n",
       "      <th>Skill</th>\n",
       "      <th>Frequency</th>\n",
       "    </tr>\n",
       "  </thead>\n",
       "  <tbody>\n",
       "    <tr>\n",
       "      <th>14</th>\n",
       "      <td>python</td>\n",
       "      <td>6</td>\n",
       "    </tr>\n",
       "    <tr>\n",
       "      <th>33</th>\n",
       "      <td>machine learning</td>\n",
       "      <td>4</td>\n",
       "    </tr>\n",
       "    <tr>\n",
       "      <th>12</th>\n",
       "      <td>llms</td>\n",
       "      <td>3</td>\n",
       "    </tr>\n",
       "    <tr>\n",
       "      <th>18</th>\n",
       "      <td>aws</td>\n",
       "      <td>3</td>\n",
       "    </tr>\n",
       "    <tr>\n",
       "      <th>24</th>\n",
       "      <td>postgresql</td>\n",
       "      <td>2</td>\n",
       "    </tr>\n",
       "    <tr>\n",
       "      <th>...</th>\n",
       "      <td>...</td>\n",
       "      <td>...</td>\n",
       "    </tr>\n",
       "    <tr>\n",
       "      <th>35</th>\n",
       "      <td>machine learning models</td>\n",
       "      <td>1</td>\n",
       "    </tr>\n",
       "    <tr>\n",
       "      <th>37</th>\n",
       "      <td>information retrieval</td>\n",
       "      <td>1</td>\n",
       "    </tr>\n",
       "    <tr>\n",
       "      <th>38</th>\n",
       "      <td>text classification</td>\n",
       "      <td>1</td>\n",
       "    </tr>\n",
       "    <tr>\n",
       "      <th>39</th>\n",
       "      <td>aws sagemaker</td>\n",
       "      <td>1</td>\n",
       "    </tr>\n",
       "    <tr>\n",
       "      <th>72</th>\n",
       "      <td>google cloud</td>\n",
       "      <td>1</td>\n",
       "    </tr>\n",
       "  </tbody>\n",
       "</table>\n",
       "<p>73 rows × 2 columns</p>\n",
       "</div>"
      ],
      "text/plain": [
       "                      Skill  Frequency\n",
       "14                   python          6\n",
       "33         machine learning          4\n",
       "12                     llms          3\n",
       "18                      aws          3\n",
       "24               postgresql          2\n",
       "..                      ...        ...\n",
       "35  machine learning models          1\n",
       "37    information retrieval          1\n",
       "38      text classification          1\n",
       "39            aws sagemaker          1\n",
       "72             google cloud          1\n",
       "\n",
       "[73 rows x 2 columns]"
      ]
     },
     "execution_count": 14,
     "metadata": {},
     "output_type": "execute_result"
    }
   ],
   "source": [
    "df_hard_sorted"
   ]
  },
  {
   "cell_type": "code",
   "execution_count": 15,
   "metadata": {},
   "outputs": [
    {
     "data": {
      "text/html": [
       "<div>\n",
       "<style scoped>\n",
       "    .dataframe tbody tr th:only-of-type {\n",
       "        vertical-align: middle;\n",
       "    }\n",
       "\n",
       "    .dataframe tbody tr th {\n",
       "        vertical-align: top;\n",
       "    }\n",
       "\n",
       "    .dataframe thead th {\n",
       "        text-align: right;\n",
       "    }\n",
       "</style>\n",
       "<table border=\"1\" class=\"dataframe\">\n",
       "  <thead>\n",
       "    <tr style=\"text-align: right;\">\n",
       "      <th></th>\n",
       "      <th>Skill</th>\n",
       "      <th>Frequency</th>\n",
       "    </tr>\n",
       "  </thead>\n",
       "  <tbody>\n",
       "    <tr>\n",
       "      <th>3</th>\n",
       "      <td>communication</td>\n",
       "      <td>9</td>\n",
       "    </tr>\n",
       "    <tr>\n",
       "      <th>2</th>\n",
       "      <td>collaboration</td>\n",
       "      <td>7</td>\n",
       "    </tr>\n",
       "    <tr>\n",
       "      <th>4</th>\n",
       "      <td>problem-solving</td>\n",
       "      <td>6</td>\n",
       "    </tr>\n",
       "    <tr>\n",
       "      <th>5</th>\n",
       "      <td>teamwork</td>\n",
       "      <td>3</td>\n",
       "    </tr>\n",
       "    <tr>\n",
       "      <th>6</th>\n",
       "      <td>adaptability</td>\n",
       "      <td>3</td>\n",
       "    </tr>\n",
       "    <tr>\n",
       "      <th>7</th>\n",
       "      <td>innovation</td>\n",
       "      <td>2</td>\n",
       "    </tr>\n",
       "    <tr>\n",
       "      <th>12</th>\n",
       "      <td>ownership</td>\n",
       "      <td>2</td>\n",
       "    </tr>\n",
       "    <tr>\n",
       "      <th>17</th>\n",
       "      <td>autonomous</td>\n",
       "      <td>2</td>\n",
       "    </tr>\n",
       "    <tr>\n",
       "      <th>0</th>\n",
       "      <td>responsive design</td>\n",
       "      <td>1</td>\n",
       "    </tr>\n",
       "    <tr>\n",
       "      <th>30</th>\n",
       "      <td>feedback</td>\n",
       "      <td>1</td>\n",
       "    </tr>\n",
       "    <tr>\n",
       "      <th>25</th>\n",
       "      <td>time management</td>\n",
       "      <td>1</td>\n",
       "    </tr>\n",
       "    <tr>\n",
       "      <th>26</th>\n",
       "      <td>research</td>\n",
       "      <td>1</td>\n",
       "    </tr>\n",
       "    <tr>\n",
       "      <th>27</th>\n",
       "      <td>empathetic</td>\n",
       "      <td>1</td>\n",
       "    </tr>\n",
       "    <tr>\n",
       "      <th>28</th>\n",
       "      <td>motivated</td>\n",
       "      <td>1</td>\n",
       "    </tr>\n",
       "    <tr>\n",
       "      <th>29</th>\n",
       "      <td>respect</td>\n",
       "      <td>1</td>\n",
       "    </tr>\n",
       "    <tr>\n",
       "      <th>33</th>\n",
       "      <td>results-oriented</td>\n",
       "      <td>1</td>\n",
       "    </tr>\n",
       "    <tr>\n",
       "      <th>31</th>\n",
       "      <td>thoughtfulness</td>\n",
       "      <td>1</td>\n",
       "    </tr>\n",
       "    <tr>\n",
       "      <th>32</th>\n",
       "      <td>self-motivation</td>\n",
       "      <td>1</td>\n",
       "    </tr>\n",
       "    <tr>\n",
       "      <th>23</th>\n",
       "      <td>critical thinking</td>\n",
       "      <td>1</td>\n",
       "    </tr>\n",
       "    <tr>\n",
       "      <th>34</th>\n",
       "      <td>interpersonal</td>\n",
       "      <td>1</td>\n",
       "    </tr>\n",
       "    <tr>\n",
       "      <th>35</th>\n",
       "      <td>accountability</td>\n",
       "      <td>1</td>\n",
       "    </tr>\n",
       "    <tr>\n",
       "      <th>36</th>\n",
       "      <td>diversity</td>\n",
       "      <td>1</td>\n",
       "    </tr>\n",
       "    <tr>\n",
       "      <th>24</th>\n",
       "      <td>decision-making</td>\n",
       "      <td>1</td>\n",
       "    </tr>\n",
       "    <tr>\n",
       "      <th>19</th>\n",
       "      <td>proactive</td>\n",
       "      <td>1</td>\n",
       "    </tr>\n",
       "    <tr>\n",
       "      <th>22</th>\n",
       "      <td>strategic planning</td>\n",
       "      <td>1</td>\n",
       "    </tr>\n",
       "    <tr>\n",
       "      <th>21</th>\n",
       "      <td>self-motivated</td>\n",
       "      <td>1</td>\n",
       "    </tr>\n",
       "    <tr>\n",
       "      <th>20</th>\n",
       "      <td>analytical skills</td>\n",
       "      <td>1</td>\n",
       "    </tr>\n",
       "    <tr>\n",
       "      <th>1</th>\n",
       "      <td>agile methodologies</td>\n",
       "      <td>1</td>\n",
       "    </tr>\n",
       "    <tr>\n",
       "      <th>18</th>\n",
       "      <td>leadership</td>\n",
       "      <td>1</td>\n",
       "    </tr>\n",
       "    <tr>\n",
       "      <th>16</th>\n",
       "      <td>self-driven</td>\n",
       "      <td>1</td>\n",
       "    </tr>\n",
       "    <tr>\n",
       "      <th>15</th>\n",
       "      <td>humility</td>\n",
       "      <td>1</td>\n",
       "    </tr>\n",
       "    <tr>\n",
       "      <th>14</th>\n",
       "      <td>curiosity</td>\n",
       "      <td>1</td>\n",
       "    </tr>\n",
       "    <tr>\n",
       "      <th>13</th>\n",
       "      <td>initiative</td>\n",
       "      <td>1</td>\n",
       "    </tr>\n",
       "    <tr>\n",
       "      <th>11</th>\n",
       "      <td>pragmatism</td>\n",
       "      <td>1</td>\n",
       "    </tr>\n",
       "    <tr>\n",
       "      <th>10</th>\n",
       "      <td>microservices architecture</td>\n",
       "      <td>1</td>\n",
       "    </tr>\n",
       "    <tr>\n",
       "      <th>9</th>\n",
       "      <td>agile</td>\n",
       "      <td>1</td>\n",
       "    </tr>\n",
       "    <tr>\n",
       "      <th>8</th>\n",
       "      <td>framework usage</td>\n",
       "      <td>1</td>\n",
       "    </tr>\n",
       "    <tr>\n",
       "      <th>37</th>\n",
       "      <td>flexibility</td>\n",
       "      <td>1</td>\n",
       "    </tr>\n",
       "  </tbody>\n",
       "</table>\n",
       "</div>"
      ],
      "text/plain": [
       "                         Skill  Frequency\n",
       "3                communication          9\n",
       "2                collaboration          7\n",
       "4              problem-solving          6\n",
       "5                     teamwork          3\n",
       "6                 adaptability          3\n",
       "7                   innovation          2\n",
       "12                   ownership          2\n",
       "17                  autonomous          2\n",
       "0            responsive design          1\n",
       "30                    feedback          1\n",
       "25             time management          1\n",
       "26                    research          1\n",
       "27                  empathetic          1\n",
       "28                   motivated          1\n",
       "29                     respect          1\n",
       "33            results-oriented          1\n",
       "31              thoughtfulness          1\n",
       "32             self-motivation          1\n",
       "23           critical thinking          1\n",
       "34               interpersonal          1\n",
       "35              accountability          1\n",
       "36                   diversity          1\n",
       "24             decision-making          1\n",
       "19                   proactive          1\n",
       "22          strategic planning          1\n",
       "21              self-motivated          1\n",
       "20           analytical skills          1\n",
       "1          agile methodologies          1\n",
       "18                  leadership          1\n",
       "16                 self-driven          1\n",
       "15                    humility          1\n",
       "14                   curiosity          1\n",
       "13                  initiative          1\n",
       "11                  pragmatism          1\n",
       "10  microservices architecture          1\n",
       "9                        agile          1\n",
       "8              framework usage          1\n",
       "37                 flexibility          1"
      ]
     },
     "execution_count": 15,
     "metadata": {},
     "output_type": "execute_result"
    }
   ],
   "source": [
    "df_soft_sorted"
   ]
  },
  {
   "cell_type": "markdown",
   "metadata": {},
   "source": [
    "# Qwen"
   ]
  },
  {
   "cell_type": "code",
   "execution_count": null,
   "metadata": {},
   "outputs": [],
   "source": []
  },
  {
   "cell_type": "markdown",
   "metadata": {},
   "source": [
    "# DeepSeek"
   ]
  },
  {
   "cell_type": "code",
   "execution_count": 16,
   "metadata": {},
   "outputs": [
    {
     "ename": "OpenAIError",
     "evalue": "The api_key client option must be set either by passing api_key to the client or by setting the OPENAI_API_KEY environment variable",
     "output_type": "error",
     "traceback": [
      "\u001b[0;31m---------------------------------------------------------------------------\u001b[0m",
      "\u001b[0;31mOpenAIError\u001b[0m                               Traceback (most recent call last)",
      "Cell \u001b[0;32mIn[16], line 5\u001b[0m\n\u001b[1;32m      1\u001b[0m \u001b[38;5;66;03m# Let's try DeepSeek, especially it's output.\u001b[39;00m\n\u001b[1;32m      3\u001b[0m \u001b[38;5;28;01mfrom\u001b[39;00m\u001b[38;5;250m \u001b[39m\u001b[38;5;21;01mopenai\u001b[39;00m\u001b[38;5;250m \u001b[39m\u001b[38;5;28;01mimport\u001b[39;00m OpenAI\n\u001b[0;32m----> 5\u001b[0m client \u001b[38;5;241m=\u001b[39m \u001b[43mOpenAI\u001b[49m\u001b[43m(\u001b[49m\u001b[43mapi_key\u001b[49m\u001b[38;5;241;43m=\u001b[39;49m\u001b[43mDEEP_KEY\u001b[49m\u001b[43m,\u001b[49m\u001b[43m \u001b[49m\u001b[43mbase_url\u001b[49m\u001b[38;5;241;43m=\u001b[39;49m\u001b[38;5;124;43m\"\u001b[39;49m\u001b[38;5;124;43mhttps://api.deepseek.com\u001b[39;49m\u001b[38;5;124;43m\"\u001b[39;49m\u001b[43m)\u001b[49m\n\u001b[1;32m      7\u001b[0m response \u001b[38;5;241m=\u001b[39m client\u001b[38;5;241m.\u001b[39mchat\u001b[38;5;241m.\u001b[39mcompletions\u001b[38;5;241m.\u001b[39mcreate(\n\u001b[1;32m      8\u001b[0m     model\u001b[38;5;241m=\u001b[39m\u001b[38;5;124m\"\u001b[39m\u001b[38;5;124mdeepseek-chat\u001b[39m\u001b[38;5;124m\"\u001b[39m,\n\u001b[1;32m      9\u001b[0m     messages\u001b[38;5;241m=\u001b[39m[\n\u001b[0;32m   (...)\u001b[0m\n\u001b[1;32m     13\u001b[0m     stream\u001b[38;5;241m=\u001b[39m\u001b[38;5;28;01mFalse\u001b[39;00m\n\u001b[1;32m     14\u001b[0m )\n\u001b[1;32m     16\u001b[0m \u001b[38;5;28mprint\u001b[39m(response\u001b[38;5;241m.\u001b[39mchoices[\u001b[38;5;241m0\u001b[39m]\u001b[38;5;241m.\u001b[39mmessage\u001b[38;5;241m.\u001b[39mcontent)\n",
      "File \u001b[0;32m~/Desktop/github/linkedin/linkedin_env/lib/python3.12/site-packages/openai/_client.py:110\u001b[0m, in \u001b[0;36mOpenAI.__init__\u001b[0;34m(self, api_key, organization, project, base_url, websocket_base_url, timeout, max_retries, default_headers, default_query, http_client, _strict_response_validation)\u001b[0m\n\u001b[1;32m    108\u001b[0m     api_key \u001b[38;5;241m=\u001b[39m os\u001b[38;5;241m.\u001b[39menviron\u001b[38;5;241m.\u001b[39mget(\u001b[38;5;124m\"\u001b[39m\u001b[38;5;124mOPENAI_API_KEY\u001b[39m\u001b[38;5;124m\"\u001b[39m)\n\u001b[1;32m    109\u001b[0m \u001b[38;5;28;01mif\u001b[39;00m api_key \u001b[38;5;129;01mis\u001b[39;00m \u001b[38;5;28;01mNone\u001b[39;00m:\n\u001b[0;32m--> 110\u001b[0m     \u001b[38;5;28;01mraise\u001b[39;00m OpenAIError(\n\u001b[1;32m    111\u001b[0m         \u001b[38;5;124m\"\u001b[39m\u001b[38;5;124mThe api_key client option must be set either by passing api_key to the client or by setting the OPENAI_API_KEY environment variable\u001b[39m\u001b[38;5;124m\"\u001b[39m\n\u001b[1;32m    112\u001b[0m     )\n\u001b[1;32m    113\u001b[0m \u001b[38;5;28mself\u001b[39m\u001b[38;5;241m.\u001b[39mapi_key \u001b[38;5;241m=\u001b[39m api_key\n\u001b[1;32m    115\u001b[0m \u001b[38;5;28;01mif\u001b[39;00m organization \u001b[38;5;129;01mis\u001b[39;00m \u001b[38;5;28;01mNone\u001b[39;00m:\n",
      "\u001b[0;31mOpenAIError\u001b[0m: The api_key client option must be set either by passing api_key to the client or by setting the OPENAI_API_KEY environment variable"
     ]
    }
   ],
   "source": [
    "# Let's try DeepSeek, especially it's output.\n",
    "\n",
    "from openai import OpenAI\n",
    "\n",
    "client = OpenAI(api_key=DEEP_KEY, base_url=\"https://api.deepseek.com\")\n",
    "\n",
    "response = client.chat.completions.create(\n",
    "    model=\"deepseek-chat\",\n",
    "    messages=[\n",
    "        {\"role\": \"system\", \"content\": \"You are a helpful assistant\"},\n",
    "        {\"role\": \"user\", \"content\": \"Hello\"},\n",
    "    ],\n",
    "    stream=False\n",
    ")\n",
    "\n",
    "print(response.choices[0].message.content)\n",
    "\n",
    "# API not working at the moment..."
   ]
  },
  {
   "cell_type": "markdown",
   "metadata": {},
   "source": [
    "# OLD BELOW"
   ]
  },
  {
   "cell_type": "code",
   "execution_count": null,
   "metadata": {},
   "outputs": [
    {
     "name": "stdout",
     "output_type": "stream",
     "text": [
      "Scraping job list page: https://www.linkedin.com/jobs-guest/jobs/api/seeMoreJobPostings/search?keywords=software%20engineer&location=Remote&f_WT=2&start=0\n",
      "{'title': 'Software Engineer', 'company': 'Microsoft', 'location': 'Bengaluru, Karnataka, India', 'url': 'https://in.linkedin.com/jobs/view/software-engineer-at-microsoft-4131147250?position=1&pageNum=0&refId=gwJNwjrnv3xMXSUwJOU0kg%3D%3D&trackingId=25mdpDh2rGiqMrW%2BLBFqXQ%3D%3D', 'description': \"Have you ever imagined a world with an infinite amount of storage available and accessible to everyone? A place where everyone in the world can easily access their data from anywhere at any time via any means (e.g., mobile phones, tablets, PCs, smart devices, etc.). Did you ever desire a universally accessible storage system to record all the knowledge known to mankind or to store all the data collected from all the scientists in the world for them to collaborate upon? Do you want to be part of a team that strives to bring these to reality?As a Software Engineer in the Azure Storage team, you will build, improve and support highly scalable, performant services that deliver highly reliable, secure and available access to storage for our customers. You will face challenges of monitoring, analyzing, and designing for ever-growing data needs of our customers and for ensuring data privacy, protection and compliance. This opportunity will allow you to develop your technical skills in cloud services and storage, accelerate career growth, and provide an opportunity to work in a highly dynamic, flexible, and globally distributed team.Microsoft’s mission is to empower every person and every organization on the planet to achieve more. As employees we come together with a growth mindset, innovate to empower others, and collaborate to realize our shared goals. Each day we build on our values of respect, integrity, and accountability to create a culture of inclusion where everyone can thrive at work and beyond.ResponsibilitiesWorks with appropriate stakeholders to determine user requirements for a feature.Contributes to the identification of dependencies, and the development of design documents for a product area with little oversight.Creates and implements code for a product, service, or feature, reusing code as applicable.Contributes to efforts to break down larger work items into smaller work items and provides estimation.Acts as a Designated Responsible Individual (DRI) and guides other engineers by developing and following the playbook, working on call to monitor system/product/service for degradation, downtime, or interruptions, alerting stakeholders about status and initiates actions to restore system/product/service for simple and complex problems when appropriate.Proactively seeks new knowledge and adapts to new trends, technical solutions, and patterns that will improve the availability, reliability, efficiency, observability, and performance of products while also driving consistency in monitoring and operations at scale.QualificationsRequired Qualifications:Bachelor's Degree in Computer Science, or related technical discipline with proven experience coding in languages including, but not limited to, C, C++, C#, Java, JavaScript, or Python.OR equivalent experience.Excellence in software engineering practices.Other RequirementsAbility to meet Microsoft, customer and/or government security screening requirements are required for this role. These requirements include, but are not limited to the following specialized security screenings: Microsoft Cloud Background Check: This position will be required to pass the Microsoft Cloud background check upon hire/transfer and every two years thereafter.Additional / Preferred QualificationsBachelor's Degree in Computer Science OR related technical field AND 1+ year(s) technical engineering experience with coding in languages including, but not limited to, C, C++, C#, Java, JavaScript, OR Python.OR Master's Degree in Computer Science or related technical field with proven experience coding in languages including, but not limited to, C, C++, C#, Java, JavaScript, or Python OR equivalent experience.Experience developing large-scale , high availability services.Experience working on large-scale automated deployment systems.#AzurecorejobsMicrosoft is an equal opportunity employer. Consistent with applicable law, all qualified applicants will receive consideration for employment without regard to age, ancestry, citizenship, color, family or medical care leave, gender identity or expression, genetic information, immigration status, marital status, medical condition, national origin, physical or mental disability, political affiliation, protected veteran or military status, race, ethnicity, religion, sex (including pregnancy), sexual orientation, or any other characteristic protected by applicable local laws, regulations and ordinances. If you need assistance and/or a reasonable accommodation due to a disability during the application process, read more about requesting accommodations.\", 'extracted_skills': [{'generated_text': 'hard_skills'}]}\n",
      "{'title': 'Software Engineer', 'company': 'Microsoft', 'location': 'Hyderabad, Telangana, India', 'url': 'https://in.linkedin.com/jobs/view/software-engineer-at-microsoft-4138209505?position=2&pageNum=0&refId=gwJNwjrnv3xMXSUwJOU0kg%3D%3D&trackingId=gjmajAXJwlMybNGoJIU7fw%3D%3D', 'description': \"Azure is experiencing unprecedented growth, making it the fastest-growing business in Microsoft's history. It forms the foundation of Microsoft's commercial Cloud Services, distinguishing itself as the only hyper-scale, enterprise-grade cloud solution with a genuine hybrid capability. Azure's continuous momentum is recognized by customers and analysts. Microsoft Azure's primary goal is to become the most trusted, secure, and global cloud while fostering an exceptional work environment.We are a vital part of the Azure Networking team, responsible for the design, construction, and operation of critical foundational network services. These services set Azure apart from competitors and open up new revenue streams. The Cloud buildout is a technically challenging field, involving a complex interplay of device commissioning and service deployments. The increasing demand for new Azure clouds necessitates the creation of scalable, intricate services and tools that expedite cloud buildouts while ensuring high security through role-based access control.As a Software Engineer you will collaborate with a team of skilled engineers to plan, design, and implement distributed services, automation tools, and frameworks that accelerate new cloud buildout and operations. This opportunity will allow you to influence and collaborate with teams both within and outside Microsoft to create end-to-end scenarios and customer-centric products.Microsoft’s mission is to empower every person and every organization on the planet to achieve more. As employees we come together with a growth mindset, innovate to empower others, and collaborate to realize our shared goals. Each day we build on our values of respect, integrity, and accountability to create a culture of inclusion where everyone can thrive at work and beyond.ResponsibilitiesWorks with appropriate stakeholders to determine user requirements for a set of features.Contributes to the identification of dependencies, and the development of design documents for a product area with little oversight. Creates and implements code for a product, service, or feature, reusing code as applicable.Planning and developing distributed software services, automation tools, and frameworks to expedite new cloud buildout and operations.Promoting the adoption of best engineering practices and processes within and across teams.Contributes to efforts to break down larger work items into smaller work items and provides estimation.Acts as a Designated Responsible Individual (DRI) working on-call to monitor system/product feature/service for degradation, downtime, or interruptions and gains approval to restore system/product/service for simple problems.Remains current in skills by investing time and effort into staying abreast of current developments that will improve the availability, reliability, efficiency, observability, and performance of products while also driving consistency in monitoring and operations at scale.QualificationsRequired Qualifications:Bachelor's Degree in Computer Science, or related technical discipline with proven experience coding in languages including, but not limited to, C, C++, C#, Java, JavaScript, or PythonOR equivalent experienceOther RequirementsAbility to meet Microsoft, customer and/or government security screening requirements are required for this role. These requirements include, but are not limited to the following specialized security screenings:Microsoft Cloud Background Check: This position will be required to pass the Microsoft Cloud Background Check upon hire/transfer and every two years thereafter.Preferred QualificationsBachelor's Degree in Computer ScienceOR related technical field AND 1+ years technical engineering experience with coding in languages including, but not limited to, C, C++, C#, Java, JavaScript,OR PythonOR Master's Degree in Computer Science or related technical field with proven experience coding in languages including, but not limited to, C, C++, C#, Java, JavaScript, or PythonOR equivalent experience#azurecorejobsMicrosoft is an equal opportunity employer. Consistent with applicable law, all qualified applicants will receive consideration for employment without regard to age, ancestry, citizenship, color, family or medical care leave, gender identity or expression, genetic information, immigration status, marital status, medical condition, national origin, physical or mental disability, political affiliation, protected veteran or military status, race, ethnicity, religion, sex (including pregnancy), sexual orientation, or any other characteristic protected by applicable local laws, regulations and ordinances. If you need assistance and/or a reasonable accommodation due to a disability during the application process, read more about requesting accommodations.\", 'extracted_skills': [{'generated_text': 'hard_skills'}]}\n",
      "{'title': 'Full-Stack Software Engineer (New graduates: Canada)', 'company': 'Wanderlog', 'location': 'Canada', 'url': 'https://ca.linkedin.com/jobs/view/full-stack-software-engineer-new-graduates-canada-at-wanderlog-4140323578?position=3&pageNum=0&refId=gwJNwjrnv3xMXSUwJOU0kg%3D%3D&trackingId=Jdb%2FDULxCak75o2q8DyzwQ%3D%3D', 'description': 'Warning: if you’re outside of the Americas timezones, unfortunately, we’re only hiring for engineers with at least some timezone overlap.Wanderlog helps make leisure travel easier. We believe that travel makes the world better, and are building tools that lower the bar to it. Our core product, built starting 2019, is a travel planning app (we’re the top-ranked trip planner on iOS and Android), but we’re also helping travelers book hotels (without hidden fees), providing them with information (through various pages on e.g., best attractions, restaurants, etc.), and more.Our founders are twin brothers. Peter worked as an engineer at Stripe and a consultant at McKinsey, and Harry as a product manager at Google. We’re an engineering and product-driven team: the founders studied computer science at Yale, and have built successful, bootstrapped travel companies (BookWithMatrix and All the Flight Deals) with products people love before starting Wanderlog.We now serve millions of travelers a month, and are a team of 8, including 7 engineers hailing from MIT, the University of Toronto, UC Berkeley, and more; and 1 designer. We’re a self-sustaining, default-alive startup.We also love traveling. Whether it’s a short hop to Austin, Seattle, or New Orleans; or a longer jaunt to Australia, Hawaii, or Banff National Park (all places the team’s traveled to in the past year!), travel broadens our horizons, builds empathy, and challenges us to grow. We’re working to bring these experiences to more of the world.What You’ll DoAs an engineer, you’ll be responsible for owning portions of the product. You’ll be expected to:Build new features on our website and mobile app. (Our stack is Javascript (Typescript): modern React on the web, React Native on mobile, and Node.js/Express on the server.)Design and decide what to build based on what would help travelers and drive growth. You won’t be handed a spec; you’ll be coming up with it!Build data pipelines to crawl, process, and synthesize data from various sources around the web.Write tests and and build out engineering infrastructure. Our code is fully typed (Typescript) and tested.Debug and fix bugs and scale the infrastructure as it grows.Review code written by other engineers.Be fast and nimble: figure out the best way to build new features at lowest cost in time and future technical debt.This position is a full-time role reporting to the cofounders at Wanderlog.What You Might Work OnNew, user-friendly hotel booking interfaces that make finding a place to stay easier.AI-powered tools that read articles and watch videos for you and summarize the places they mention.Improvements to our React Native mobile app so that it runs faster on slower Android phones.A Chrome extension to let travelers quickly compare possible places to visit, airfares, and hotels.Better invite and collaboration tools to encourage people using Wanderlog to get more friends to join them.A better profile page that lets travelers on Wanderlog show off where they’ve been, see how many people they’ve helped, and follow other friends and their trips.You May Be a Good Fit If YouAre a Javascript developer comfortable with React and/or React Native.Are a product person: you’ve built products end-to-end before, and really care about the people who use them.Are comfortable with picking up various technologies for the task at hand. We quickly evaluate libraries and tools that could help our product, and variously use Redis, Elasticsearch, and Python as needed too.Are entrepreneurial: excited about joining a small, high-growth team and talking to users, doing product and design, and wearing a variety of hats.Love travel and believe in it as a positive force personally and for the world.What’s it like to work here?We’re an engineering and product-heavy team. Travel’s something everyone does, and we love using the tools we build. A typical week’s work involves talking to users, prioritizing tasks in Sheets, designing on Figma, and building and shipping them continuously.Our values include putting travelers first, owning the product end-to-end, treating teammates with respect, and moving fast by being smart about what we build and how we build it.We believe in work fitting in with your life. We love travel and believe it rejuvenates us and makes us better people, and have twice annual travel offsites where the goal is to enjoy visiting a new place and collaborate more closely with the team in person.Our hiring processWe’ll first have you do an asynchronous programming challenge. If all goes well, we’ll have a coding interview where you work on a quick program on your laptop in your preferred language. We’ll then do another coding interview and a full-day virtual onsite.FoundersPeter Xu and Harry Yu are twin brothers. Peter shuttled between Los Angeles, Houston, New York, Tokyo, and Hong Kong as a consultant at McKinsey before settling down at Stripe as a full-stack engineer, where he worked closely with support teams to build tools that made support agents’ work more productive.Harry worked at Google as a product manager on Hotel Search, Chrome, and finally Google Assistant for the past three, where he was one of the early PMs on the team.Before building Wanderlog, they had built Coursetable (featured in the New York Times) and travel sites All the Flight Deals (a flight deals aggregator) and BookWithMatrix (a power-traveler flight search tool). The founders are now glad to have been working on Wanderlog for 6 years, and are excited to make travelers’ lives easier!', 'extracted_skills': [{'generated_text': 'hard_skills'}]}\n",
      "{'title': 'Software Engineer I, Fullstack', 'company': 'Pinterest', 'location': 'United States', 'url': 'https://www.linkedin.com/jobs/view/software-engineer-i-fullstack-at-pinterest-4140316003?position=4&pageNum=0&refId=gwJNwjrnv3xMXSUwJOU0kg%3D%3D&trackingId=Q%2F6j1zdpCuHmHNGfUJO2bA%3D%3D', 'description': \"About PinterestMillions of people across the world come to Pinterest to find new ideas every day. It’s where they get inspiration, dream about new possibilities and plan for what matters most. Our mission is to help those people find their inspiration and create a life they love. In your role, you’ll be challenged to take on work that upholds this mission and pushes Pinterest forward. You’ll grow as a person and leader in your field, all the while helping Pinners make their lives better in the positive corner of the internet.Creating a life you love also means finding a career that celebrates the unique perspectives and experiences that you bring. As you read through the expectations of the position, consider how your skills and experiences may complement the responsibilities of the role. We encourage you to think through your relevant and transferable skills from prior experiences.Our new progressive work model is called PinFlex, a term that’s uniquely Pinterest to describe our flexible approach to living and working. Visit ourPinFlexlanding page to learn more.We are looking for inquisitive, well-rounded Full-stack engineers to join our engineering teams. Working closely with product managers, designers, and backend engineers, you’ll play an important role in enabling the newest technologies and experiences. You will build robust frameworks & features. You will empower both developers and Pinners alike. You’ll have the opportunity to find creative solutions to thought-provoking problems. Even better, because we covet the kind of courageous thinking that’s required in order for big bets and smart risks to pay off, you’ll be invited to create and drive new initiatives, seeing them from inception through to technical design, implementation, and release.What You’ll DoBuild out full-stack Pinner-facing features to power the future of inspiration on PinterestContribute to and lead each step of the product development process, from ideation to implementation to release; from rapidly prototyping, running A/B tests, to architecting and building solutions that can scale to support millions of usersPartner with design, product, and backend teams to build end-to-end functionalityPut on your Pinner hat to suggest new product ideas and featuresEmploy automated testing to build features with a high degree of technical quality, taking responsibility for the components and features you developGrow as an engineer by working with world-class peers on varied and high impact projectsWhat We’re Looking ForBachelor’s degree in Computer Science, a related field or equivalent experience1+ year of industry full-stack development experience, building consumer or business facing productsProficiency in one or more common backend and frontend tech stacks: e.g. Javascript, React, API, storage, caching and data processingExperience in following best practices in writing reliable and maintainable code that may be used by many other engineersAbility to keep up-to-date with new technologies to understand what should be incorporatedStrong collaboration and communication skillsIn-Office Requirement StatementWe let the type of work you do guide the collaboration style. That means we're not always working in an office, but we continue to gather for key moments of collaboration and connection.This role will need to be in the office for in-person collaboration 1-2 times every 6 months and therefore can be situated anywhere in the country.Relocation Statement:This position is not eligible for relocation assistance. Visit our PinFlex page to learn more about our working model.At Pinterest we believe the workplace should be equitable, inclusive, and inspiring for every employee. In an effort to provide greater transparency, we are sharing the base salary range for this position. The position is also eligible for equity. Final salary is based on a number of factors including location, travel, relevant prior experience, or particular skills and expertise.Information regarding the culture at Pinterest and benefits available for this position can be found here.US based applicants only$98,693—$203,191 USDOur Commitment To DiversityPinterest is an equal opportunity employer and makes employment decisions on the basis of merit. We want to have the best qualified people in every job. All qualified applicants will receive consideration for employment without regard to race, color, ancestry, national origin, religion or religious creed, sex (including pregnancy, childbirth, or related medical conditions), sexual orientation, gender, gender identity, gender expression, age, marital status, status as a protected veteran, physical or mental disability, medical condition, genetic information or characteristics (or those of a family member) or any other consideration made unlawful by applicable federal, state or local laws. We also consider qualified applicants regardless of criminal histories, consistent with legal requirements. If you require a medical or religious accommodation during the job application process, please complete this form for support.\", 'extracted_skills': [{'generated_text': 'hard_skills'}]}\n",
      "{'title': 'Software Engineer (L5), Python Platform', 'company': 'Netflix', 'location': 'United States', 'url': 'https://www.linkedin.com/jobs/view/software-engineer-l5-python-platform-at-netflix-4142024539?position=5&pageNum=0&refId=gwJNwjrnv3xMXSUwJOU0kg%3D%3D&trackingId=gVobwuXtT5RHgmCTASRghQ%3D%3D', 'description': \"Netflix is one of the world's leading entertainment services, with 283 million paid memberships in over 190 countries enjoying TV series, films and games across a wide variety of genres and languages. Members can play, pause and resume watching as much as they want, anytime, anywhere, and can change their plans at any time.Our application development platform teams enable the underlying technology and best practices for engineering at Netflix. We work to provide Netflix developers with the best support, solutions and approaches to leverage common centralized needs. Python is one of the top three languages used at Netflix, critical to our machine learning, data science, and animation pipeline efforts, to name a few. The Python Platform team is relatively new to the application development platform teams and as such, provides an exciting opportunity for you to shape the future of Python at Netflix.Your day-to-dayDesign and promote internal Python libraries that address common challenges faced by Netflix's Python developers. Refine and ensure the foundational Python capabilities operate seamlessly for customers.Understand and improve Python development experience by bringing in best practices and the latest technologies into runtime management, dependency resolution/management, testing, delivery, and operation.Work backward from Python developers to understand their pain, and collaborate with partner teams to provide an opinionated, batteries-included software development lifecycle for Python developers.Safely apply massive code refactoring changes to thousands of git repositories for migration and upgrade needs.Participate in the team’s support and on-call rotations.What We Need From YouExtensive experience with authoring Python libraries, that will be used across multiple environments, such as batch jobs, data streaming, training, and web services.Deep understanding of common software engineering challenges, such as observability, security, configuration, caching, and IPC.Strong expertise in Python build systems and proficiency in dependency management.Demonstrated ability to collaborate cross-functionally with other Platform teams.Able to comfortably navigate the ambiguity of a wide range of customer and partner needs, working to create the best products for the business priorities.Wearing different hats as needed for the team, including project and product management.Nice to HavesExperience with any of these domains:Machine Learning (e.g., TensorFlow, PyTorch, scikit-learn)Data Engineering (e.g., Jupyter Notebooks, Spark, pandas, numpy)Web Framework (e.g. Flask, FastAPI)Working knowledge of CondaOur culture is unique, and we live by our values, allowing you to do your best work and grow. To learn more about Productivity Engineering, listen to this podcast.At Netflix, we carefully consider a wide range of compensation factors to determine your personal top of the market. We rely on market indicators to determine compensation and consider your specific job family, background, skills, and experience to get it right. These considerations can cause your compensation to vary and will also be dependent on your location.Our compensation structure consists solely of an annual salary; we do not have bonuses. You choose each year how much of your compensation you want in salary versus stock options. To determine your personal top of market compensation, we rely on market indicators and consider your specific job family, background, skills, and experience to determine your compensation in the market range. The range for this role is $100,000 - $720,000.This market range is based on total compensation (vs. only base salary), which is in line with our compensation philosophy. Netflix has a unique culture and environment. Learn more here.Inclusion is a Netflix value and we strive to host a meaningful interview experience for all candidates. If you want an accommodation/adjustment for a disability or any other reason during the hiring process, please send a request to your recruiting partner.We are an equal-opportunity employer and celebrate diversity, recognizing that diversity builds stronger teams. We approach diversity and inclusion seriously and thoughtfully. We do not discriminate on the basis of race, religion, color, ancestry, national origin, caste, sex, sexual orientation, gender, gender identity or expression, age, disability, medical condition, pregnancy, genetic makeup, marital status, or military service.Job is open for no less than 7 days and will be removed when the position is filled.\", 'extracted_skills': [{'generated_text': 'hard_skills'}]}\n",
      "{'title': 'Full Stack Software Engineer', 'company': 'Under Armour', 'location': 'United States', 'url': 'https://www.linkedin.com/jobs/view/full-stack-software-engineer-at-under-armour-4133127557?position=6&pageNum=0&refId=gwJNwjrnv3xMXSUwJOU0kg%3D%3D&trackingId=QZnuyYq2ui4OqFYkt%2BXK9Q%3D%3D', 'description': 'Values & InnovationAt Under Armour, we are committed to empowering those who strive for more, and the company\\'s values - Act Sustainably, Celebrate the Wins, Fight on Together, Love Athletes and Stand for Equality - serve as both a roadmap for our teams and the qualities expected of every teammate.Our Values define and unite us, the beliefs that are the red thread that connects everyone at Under Armour. Our values are rallying cries, reminding us why we\\'re here, and fueling everything we do.Our pursuit of better begins with innovation and with our team\\'s mission of being the best. With us, you get the freedom to go further - no matter your role. That means developing, delivering, and selling the state-of-the-art products and digital tools that make top performers even better.If you are a current Under Armour teammate, apply to this position on theInternal Career Site Here.Purpose of RoleUnder Armour is seeking a Full Stack Software Engineer to help build fast, frictionless web experiences across the globe as part of our growing Ecommerce Engineering team. While the role is primarily focused on front-end development, there are opportunities to learn and contribute to back-end systems and other technologies. The ideal candidate has a strong foundation in web development, a passion for learning, and enjoys collaborating with cross-functional partners to deliver exceptional digital experiences.Your ImpactDevelop high-quality software with a focus on front-end development using modern frameworks and tools.Collaborate with team members to design, build, and maintain web applications and components.Participate in the software development lifecycle, including requirements gathering, development, testing, and deployment.Troubleshoot and debug issues to maintain high performance and reliability.Learn and contribute to back-end systems and APIs as needed.Work closely with senior engineers and cross-functional partners to deliver scalable and innovative solutions.QualificationsBachelor\\'s degree with typically 2 years of relevant experience, OR Master\\'s degree without experience, OR Typically 6 years of relevant work experience without degree.Willingness to learn and work with back-end technologies like Node.js and REST/GraphQL APIs.Ability to work in an agile development environment and collaborate effectively with cross-functional teams.Solid Understanding Of Modern Front-end Development TechnologiesReact, TypeScript, JavaScript, CSS/SCSS, and HTML.Experience with Next.js is a plus.Exposure To Or Interest In LearningTagging & Analytics: Adobe Analytics, Tealium, Google Tag Manager.Content Management Systems: CoreMedia, Contentful.E-Commerce Systems: Salesforce Commerce Cloud, Shopify, etc.A/B Testing Tools: Adobe Target, AB Tasty, Evergage.Workplace LocationLocation: Fully RemoteReturn to Work Designation: Fully RemoteTravel: minimalLicenses/Certifications: N/ARelocationNo relocation providedBase Compensation$104,515.00 - $143,708.40 USDMost new hires fall within this range and have the opportunity to earn more over time. Initial placement within the salary range, however, is based on an individual\\'s relevant knowledge, skills and experience for the position. UA is committed to helping our teammates succeed and advance in their careers. Base salary is only one component of our competitive Total Rewards package.Benefits & PerksPaid \"UA Give Back\" Volunteer Days: Work alongside your team to support initiatives in your local communityUnder Armour Merchandise DiscountsCompetitive 401(k) plan matchingMaternity and Parental Leave for eligible and FMLA-eligible teammatesHealth & fitness benefits, discounts and resources- We offer teammates across the country programs to promote physical activity and overall well-beingOur Commitment to DiversityAt Under Armour, we are committed to providing an environment of mutual respect where equal employment opportunities are available to all applicants and teammates without regard to race, color, religion or belief, sex, pregnancy (including childbirth, lactation and related medical conditions), national origin, age, physical and mental disability, marital status, sexual orientation, gender identity, gender expression, genetic information (including characteristics and testing), military and veteran status, family or paternal status and any other characteristic protected by applicable law. Under Armour believes that diversity and inclusion among our teammates is critical to our success as a global company, and we seek to recruit, develop and retain the most talented people from a diverse candidate pool. Accommodation is available for applicants with disabilities upon request.', 'extracted_skills': [{'generated_text': 'hard_skills'}]}\n",
      "{'title': 'Software Quality Engineer', 'company': 'Microsoft', 'location': 'Bengaluru, Karnataka, India', 'url': 'https://in.linkedin.com/jobs/view/software-quality-engineer-at-microsoft-4131148243?position=7&pageNum=0&refId=gwJNwjrnv3xMXSUwJOU0kg%3D%3D&trackingId=J8NPqkVKx%2FbTJ735N25HjA%3D%3D', 'description': \"Have you ever imagined a world with an infinite amount of storage available and accessible to everyone? A place where everyone in the world can easily access their data from anywhere at any time via any means (e.g., mobile phones, tablets, PCs, smart devices, etc.). Did you ever desire a universally accessible storage system to record all the knowledge known to mankind or to store all the data collected from all the scientists in the world for them to collaborate upon? Do you want to be part of a team that strives to bring these to reality?As a Software Quality Engineer in the Azure Storage team, you will build, improve and support highly scalable, performant services that deliver highly reliable, secure and available access to storage for our customers. You will face challenges of monitoring, analyzing, and designing for ever-growing data needs of our customers and for ensuring data privacy, protection and compliance. This opportunity will allow you to develop your technical skills in cloud services and storage, accelerate career growth, and provide an opportunity to work in a highly dynamic, flexible, and globally distributed team.Microsoft’s mission is to empower every person and every organization on the planet to achieve more. As employees we come together with a growth mindset, innovate to empower others, and collaborate to realize our shared goals. Each day we build on our values of respect, integrity, and accountability to create a culture of inclusion where everyone can thrive at work and beyond.ResponsibilitiesYou will identify the scope of testing to create a quality plan for multiple features. You’ll also create commitments for test plans in multiple features to estimate the scope of work and agree on requirements with some guidance from others.You will work with partners across teams by creating test plans for multiple features and contributes effort to get test plans for a feature reviewed by other teams (e.g., requirement writers, design architects) to solidify the test plan.By leveraging available data, you’ll work within multiple features or a broad/complex feature area to identify areas where additional exploration, development, or testing is required. You’ll also help build complex custom visualizations to ensure product testing coverage.You will be contributing to efforts to apply best practices in automation to create and implement automated testing procedures using scripting languages (e.g., C#, Python). Creates automated regression release testing when possible.Maintaining and applying automation tools and encourages team members to apply automation throughout the testing process (e.g., during development). Writing code or leveraging tools and technology to eliminate repetitive tasks to reduce manual work for multiple features.QualificationsRequired Qualifications:Bachelor's Degree in Engineering, Computer Science, or related field AND 1+ year(s) software industry or internship experience in system testing (involving networking / storage / virutalization product line) with coding in languages including, but not limited to, C, C++, C#, or Python.OR equivalent experience.Other RequirementsAbility to meet Microsoft, customer and/or government security screening requirements are required for this role. These requirements include, but are not limited to the following specialized security screenings: Microsoft Cloud Background Check: This position will be required to pass the Microsoft Cloud background check upon hire/transfer and every two years thereafter.Additional / Preferred QualificationsBachelor's Degree in Engineering, Computer Science,OR related field AND 2+ years software industry experience in system testing (involving networking / storage / virutalization product line) with coding in languages including, but not limited to, C, C++, C#, or Python.OR Master's Degree in Engineering, Computer Science, or related field AND 2+ years technical engineering experience with coding in languages including, but not limited to, C, C++, C#, or Python.OR equivalent experience.#AzurecorejobsMicrosoft is an equal opportunity employer. Consistent with applicable law, all qualified applicants will receive consideration for employment without regard to age, ancestry, citizenship, color, family or medical care leave, gender identity or expression, genetic information, immigration status, marital status, medical condition, national origin, physical or mental disability, political affiliation, protected veteran or military status, race, ethnicity, religion, sex (including pregnancy), sexual orientation, or any other characteristic protected by applicable local laws, regulations and ordinances. If you need assistance and/or a reasonable accommodation due to a disability during the application process, read more about requesting accommodations.\", 'extracted_skills': [{'generated_text': \"'hard_skills'\"}]}\n",
      "{'title': 'Software Engineer I', 'company': 'ExtraHop', 'location': 'Seattle, WA', 'url': 'https://www.linkedin.com/jobs/view/software-engineer-i-at-extrahop-4131392213?position=8&pageNum=0&refId=gwJNwjrnv3xMXSUwJOU0kg%3D%3D&trackingId=BWnqT3%2FbzYSG6wTeheq1TQ%3D%3D', 'description': \"At ExtraHop, we're on a mission to help organizations achieve complete visibility, real-time threat detection, and proactive security through cutting-edge network detection and response (NDR) technology. Our NDR product is a market leader, providing our customers with the ability to detect, investigate, and respond to threats faster than ever before.We’re proud of the work we do and the recognition we’ve received, including our recent Gartner Peer Insights award, which reflects the trust and satisfaction our customers have in our solutions.If you're passionate about innovation, dedicated to protecting digital infrastructures, and ready to make a real impact, we invite you to join our team and help us shape the future of cybersecurity.Position SummaryThe Cloud team’s mission is to design and deliver a fault-resilient, highly available, and customer-focused platform that sets the standard for innovation and reliability. In this role, you will collaborate with a talented team to develop a large-scale, secure, and scalable platform leveraging cutting-edge technologies.This opportunity is ideal for those who are passionate about cybersecurity, driven by the pursuit of simplification, and eager to explore and implement technology best practices at the forefront of the industry. Joining this team will not only allow you to work on impactful, state-of-the-art solutions but also equip you with expertise that will serve as a strong foundation for an exceptional career trajectory in cloud technology and security.Key ResponsibilitiesAutomate infrastructure and processes using tools like Terraform and Ansible.Participate in continuous integration testing and support multiple releases per week to ensure rapid delivery and high reliability.Develop and maintain cloud services primarily in Go, with a focus on security, scalability and stability.Contribute to the design and implementation of a fault-tolerant architecture for cloud services to ensure platform reliability and automated remediation.Engage with cutting-edge cloud technologies to build and enhance ExtraHop platform.Implement automation and efficient systems to reduce manual interventionsRequired QualificationsBachelor’s degree in Computer Science, Engineering or a related disciplineNew grad to 1+ year of experienceExcellent engineering chopsKnowledge of Go, Python, or an equivalent programming language with strong programming conceptSelf-starter with a strong problem-solving track record and ability to grow and learnGood communicator and collaborator who can iterate quicklyPreferred QualificationsExperience and understanding around containers and related technologies (Kubernetes / Docker / HashiCorp - Packer, Vault, and Terraform).Experience and understanding with building and scaling distributed, highly available systemsExperience with some cloud services on AWS (EKS / RDS / S3 / SQS / EC2 / IAM)About ExtrahopExtraHop is the cybersecurity partner enterprises trust to reveal the unknown and unmask the attack. We’re on a mission to protect and propagate trust by revealing the cybertruth, and we partner with every customer, every day, to uncover it. Our Reveal(x) 360 platform is the only network detection and response solution delivering the 360-degree visibility needed to see everything on the network. When organizations have full network transparency with ExtraHop, they can see more, know more, and stop more cyberattacks.ExtraHopis recognized by leading organizations for both itsinnovation in the marketand itscommitment to building a world-class team. We’ve been recognized as a “Customer’s Choice” by Gartner Peer Insights™ Voice of the Customer, and as a Leader in the Forrester Wave®: Network Analysis and Visibility, Q2 2023. ExtraHop has won AI Breakthrough Awards four times (2018-2020, 2023) and our Channel Partner program has received a 5-star rating from CRN for our 2023 Partner Program Guide. Our flagship product, Reveal(x), has received numerous accolades, including a 2022 Edison Award for Cybersecurity.BenefitsEmployees' wellbeing is top of mind for the ExtraHop team. Employees and their families will have the option to participate in the following benefits:Health, Dental, and Vision BenefitsFlexible PTO, Sick Time Prorated Based on Date of Hire, and All Federal Holidays (US Only) + 3 Days of Paid Volunteer TimeNon-Commissioned Positions may be eligible to participate in the Annual Discretionary Bonus PlanFSA and Dependent Care Accounts + EAP, where applicableEducational Reimbursement401k with Employer Match or Pension where applicablePet Insurance (US Only)Parental Leave (US Only)Hybrid and Remote Work ModelCandidates should note that the Company may modify reporting relationships, job titles and compensation, including commissions and benefits, from time to time at its sole discretion, as it deems necessary, with or without prior notice.We are intentional about our culture, diversity, and inclusion, and we welcome everyone to come ready to participate in contributing to this truly unique environment. At ExtraHop, we believe that the best products, services, and companies are built by strong teams that include a diversity of backgrounds, perspectives, ideas, and experiences. We are committed to supporting and enabling growth and opportunity for every employee at every level. This is the foundation of our success.We are equally committed to equal employment opportunity, and it is foundational to how we recruit and hire our talented team. Employment is determined based upon capabilities and qualifications without discrimination on the basis of race, color, religion, sex, gender identification and expression, marital status, military status, pregnancy (including but not limited to potential pregnancy and pregnancy-related conditions), sexual orientation, age , national origin, ancestry, citizenship or immigration status, disability ,, genetic information, or any other protected class as established by law.Our people are our most important competitive advantage, leading the charge cyber criminals and insider threats.Ready to join us? #Extrahop #Security #NDR #informationsecurity #cybersecurity #cloudsecurity #infosec\", 'extracted_skills': [{'generated_text': 'hard_skills'}]}\n",
      "{'title': 'Full Stack Software Engineer', 'company': 'Resonate', 'location': 'Washington, DC', 'url': 'https://www.linkedin.com/jobs/view/full-stack-software-engineer-at-resonate-4128463915?position=9&pageNum=0&refId=gwJNwjrnv3xMXSUwJOU0kg%3D%3D&trackingId=W1WP%2F%2BAmUPNkj2NIEz9Jxw%3D%3D', 'description': 'Resonate is revolutionizing the marketing and advertising landscape with cutting-edge technology that seamlessly combines real-time survey data, insights on U.S. consumers, and online behavioral data into a single, powerful platform. By pioneering a groundbreaking approach, Resonate enables brands to identify, understand, and engage highly targeted audiences on a deeper level. Our platform uncovers thousands of individual attributes that reveal the core values, beliefs, and motivations driving consumer behavior. We go beyond surface-level data to understand the \"why\" behind consumers\\' actions, empowering businesses to connect with the products, companies, and causes that matter most to their audiences.Join Resonate as aFull Stack Software Engineerand play a pivotal role in shaping our Application Engineering team. You\\'ll leverage cutting-edge technologies like Spring Boot and modern JavaScript frameworks to build scalable, high-performance applications that redefine consumer data and intelligence. This role is ideal for engineers with a passion for full-stack development, cloud technologies, and AI integration. Thriving in a collaborative, fast-paced environment, valuing ownership of work, and tackling complex challenges are key traits we seek in our team members.Key ResponsibilitiesDesign, develop, and maintain full-stack features, from database architecture to front-end UI, using Spring Boot and modern JavaScript frameworks.Build responsive, user-friendly UI components for single-page applications (SPAs).Develop and maintain Spring Boot microservices supporting business-critical features in an agile environment.Leverage AWS cloud technologies for deployment, scaling, and maintenance.Integrate AI-driven solutions to enhance product workflows and user experiences.Optimize and maintain relational databases, ensuring performance and scalability.Develop and document RESTful APIs for seamless system integration.Write robust unit, integration, and end-to-end tests for new features.Collaborate with cross-functional teams, including product managers and designers, to meet evolving requirements.Participate in CI/CD pipelines for efficient and reliable deployments.Troubleshoot, debug, and resolve issues across the stack.Required QualificationsStrong fundamentals in computer science and software engineering principles.2-3 years of full-stack development experience, including:Proficiency in Spring Boot for backend development.Expertise in JavaScript frameworks like React, Angular, or Ember.js.Relational database design, SQL optimization, and integration experience (e.g., Hibernate, JPA).Hands-on experience with AWS services (e.g., EC2, S3, RDS, Lambda).Familiarity with AI concepts and integrating them into software systems.Knowledge of distributed system design and scalable architecture.Experience with CI/CD pipelines and testing frameworks.Strong communication skills and a problem-solving mindset.Desired QualificationsAdvanced proficiency in HTML, CSS, and JavaScript for SPAs.Experience developing SaaS products in a commercial setting.Background in digital media, online advertising, or analytical applications.Experience managing large-scale SQL databases.Understanding of AI technologies like machine learning models and natural language processing (NLP).BenefitsBesides the opportunity to work with smart, fun, hard-working Resonate employees, you will have uncapped growth potential, a work/life balance, and a competitive suite of benefits.LocationAt Resonate, we take a remote-first approach to work, offering a flexible environment that empowers our team to collaborate seamlessly across different locations. While we embrace remote work, we also encourage thoughtful and intentional in-person collaboration to foster connection and teamwork when needed. Whether you\\'re working from home or joining us in one of our state-of-the-art offices, you\\'ll have the tools and resources you need to succeed.Resonate is headquartered in Reston, VA, with offices in New York City and Washington, D.C. Join us and be part of a team that\\'s changing the industry!Our EEO Statement:Resonate is an equal opportunity employer that is committed to diversity and inclusion in the workplace. We prohibit discrimination and harassment of any kind based on race, color, sex, religion, sexual orientation, national origin, disability, genetic information, pregnancy, or any other protected characteristic as outline by federal, state, or local laws.Find out more about our story atwww.resonate.com.', 'extracted_skills': [{'generated_text': 'hard_skills'}]}\n",
      "{'title': 'Software Engineer - Intern', 'company': 'ZipRecruiter', 'location': 'Santa Monica, CA', 'url': 'https://www.linkedin.com/jobs/view/software-engineer-intern-at-ziprecruiter-4134409289?position=10&pageNum=0&refId=gwJNwjrnv3xMXSUwJOU0kg%3D%3D&trackingId=T5V87LqrQWQmCfkPM84j4A%3D%3D', 'description': \"We offer a hybrid work environment. Most US-based positions can also be performed remotely (any exceptions will be noted in the Minimum Qualifications below.)Our Mission:To actively connect people to their next great opportunity.Who We Are:ZipRecruiter is the fastest-growing online employment marketplace for both desktop and mobile traffic. Powered by AI-driven smart matching technology, we’re building connections for millions of job seekers and businesses of all sizes through innovative mobile, web, and email services, as well as through partnerships with the best job boards on the web. As the #1 rated job search app on iOS & Android for the past 6 years, our customers are our priority.About the Team:We’re looking for software engineering interns who are passionate about building an intuitive experience for our marketplace serving millions of jobseekers and tens of thousands of customers. Our teams have a unique opportunity to work at scale, building fast, scalable, and effective applications that help connect people to their next job.As a summer intern, you’ll join our12 week programin ourSanta Monica officeand work on a combination of sprint work with your team and a project designed to provide you with the ability to develop high quality, high-performance code, consider trade-offs, iterate on solutions and expand on scope and scalability. You'll get the opportunity to become more deeply specialized in one of the following disciplines:Big Data, Full Stack, Machine Learning, Mobile - iOS, Mobile - Androidto better prepare you for a full-time career. Whether it’s supporting our job seekers, employers, or internal developers, you will have a real impact on and be able to shape the ZipRecruiter product.About the Job:Take part in the full life cycle of user-facing applications at scale, from design to implementation and testing to productionDevelop a strong understanding of the business, industry, codebase, and/or systemsWrite, test, instrument, and deploy high quality code with good test coverage, using modern abstractions and frameworks to our Kubernetes environmentHelp drive the innovation and evolution of ZipRecruiterMinimum Qualifications:Currently enrolled in a full-time, Computer Science degree-seeking program or related technical field with an expected graduation date between December 2025 and November 2026.Demonstrated foundation in software engineering through previous internship experience or equivalent practical experienceFluency with at least 1 general purpose programming language (e.g., Python, Java)Ability to work in-person in our Santa Monica office for the summerAn interest in becoming more specialized in at least one of the following disciplines: Big Data, Full Stack, Machine Learning, Mobile - iOS, Mobile - AndroidPreferred Qualifications:Fluency in multiple programming languages or ability to pick up new languages quicklyExperience working with both non-relational and relational database systemsExposure to developing client side interactions using frameworks like React along with plain Javascript, CSS and HTMLAnalytical and problem-solving skills along with a self-starter mentalityPassion for and experience with creating an intuitive, user-friendly experienceAs part of our team you'll enjoy:Competitive salaryExceptional benefits and perksThe US base pay range for this full-time position is$45.00/hr - $50.00/hr. Our pay ranges are determined by role, level, and location, and the range displayed on each job posting reflects the minimum and maximum target for new hire salaries for the position across all US locations. Within the range, individual pay is determined by work location, role-related knowledge and skills, depth of experience, relevant education or training, and additional role-related considerations.Depending on the position offered, equity, bonuses, commission, or other forms of compensation may also be provided as part of a total compensation package, in addition to a full range of medical, financial, and other benefits.ZipRecruiter is proud to be an equal opportunity employer and provides equal employment opportunities (EEO) to all employees and applicants without regard to race, color, religion, sex, national origin, age, disability, veteran status, sexual orientation, gender identity or genetics.Privacy Notice:For information about ZipRecruiter's collection and processing of job applicant personal data for this job, please see our Privacy Notice at: https://www.ziprecruiter.com/careers/job-applicant-privacy-notice\", 'extracted_skills': [{'generated_text': 'hard_skills'}]}\n"
     ]
    }
   ],
   "source": [
    "# Trying the API!\n",
    "\n",
    "import requests\n",
    "from bs4 import BeautifulSoup\n",
    "from urllib.parse import quote\n",
    "from huggingface_hub.inference_api import InferenceApi\n",
    "\n",
    "# Set your Hugging Face API token and choose a model repository\n",
    "MODEL_REPO_ID = 'google/flan-t5-base'\n",
    "\n",
    "# Initialize the Inference API client\n",
    "inference = InferenceApi(repo_id=MODEL_REPO_ID, token=HF_API_TOKEN)\n",
    "\n",
    "# Function to scrape job postings with descriptions\n",
    "def scrape_jobs_with_descriptions(keywords, location, f_WT, pages_to_scrape, headers):\n",
    "    keywords_encoded = quote(keywords)\n",
    "    location_encoded = quote(location)\n",
    "    jobs = []\n",
    "\n",
    "    for page in range(pages_to_scrape):\n",
    "        url = (\n",
    "            f\"https://www.linkedin.com/jobs-guest/jobs/api/seeMoreJobPostings/\"\n",
    "            f\"search?keywords={keywords_encoded}&location={location_encoded}&f_WT={f_WT}&start={25 * page}\"\n",
    "        )\n",
    "        print(f\"Scraping job list page: {url}\")\n",
    "\n",
    "        response = requests.get(url, headers=headers)\n",
    "        if response.status_code != 200:\n",
    "            print(f\"Failed to fetch page {page + 1}: {response.status_code}\")\n",
    "            continue\n",
    "\n",
    "        soup = BeautifulSoup(response.content, \"html.parser\")\n",
    "        divs = soup.find_all(\"div\", class_=\"base-card\")\n",
    "\n",
    "        for div in divs:\n",
    "            try:\n",
    "                title = div.find(\"h3\", class_=\"base-search-card__title\").text.strip()\n",
    "                company = div.find(\"h4\", class_=\"base-search-card__subtitle\").text.strip()\n",
    "                location = div.find(\"span\", class_=\"job-search-card__location\").text.strip()\n",
    "                job_link_tag = div.find(\"a\", class_=\"base-card__full-link\")\n",
    "                job_url = job_link_tag[\"href\"] if job_link_tag else \"No URL found\"\n",
    "                job_description = (\n",
    "                    fetch_job_description(job_url, headers)\n",
    "                    if job_url != \"No URL found\"\n",
    "                    else \"No description available\"\n",
    "                )\n",
    "                jobs.append({\n",
    "                    \"title\": title,\n",
    "                    \"company\": company,\n",
    "                    \"location\": location,\n",
    "                    \"url\": job_url,\n",
    "                    \"description\": job_description\n",
    "                })\n",
    "            except Exception as e:\n",
    "                print(f\"Error parsing job: {e}\")\n",
    "    return jobs\n",
    "\n",
    "# Function to fetch the job description from the individual job posting\n",
    "def fetch_job_description(job_url, headers):\n",
    "    try:\n",
    "        response = requests.get(job_url, headers=headers)\n",
    "        if response.status_code != 200:\n",
    "            print(f\"Failed to fetch job page: {job_url}\")\n",
    "            return \"Failed to fetch job description\"\n",
    "        soup = BeautifulSoup(response.content, \"html.parser\")\n",
    "        description_div = soup.find(\"div\", class_=\"show-more-less-html__markup\")\n",
    "        if description_div:\n",
    "            return description_div.get_text(strip=True).replace(\"\\n\", \" \")\n",
    "        return \"No description available\"\n",
    "    except Exception as e:\n",
    "        print(f\"Error fetching job description: {e}\")\n",
    "        return \"Error fetching job description\"\n",
    "\n",
    "# Function to extract skills using the Hugging Face Inference API client wrapper\n",
    "def extract_skills(job_description):\n",
    "    prompt = (\n",
    "        \"Extract all relevant hard and soft skills from the following job description. \"\n",
    "        \"Return the results as JSON with keys 'hard_skills' and 'soft_skills'.\\n\\n\"\n",
    "        f\"Job Description: {job_description}\"\n",
    "    )\n",
    "    response = inference(prompt)\n",
    "    return response\n",
    "\n",
    "# Configuration for scraping\n",
    "headers = {\n",
    "    \"User-Agent\": \"Mozilla/5.0 (Windows NT 10.0; Win64; x64) \"\n",
    "                  \"AppleWebKit/537.36 (KHTML, like Gecko) \"\n",
    "                  \"Chrome/91.0.4472.124 Safari/537.36\"\n",
    "}\n",
    "keywords = \"software engineer\"\n",
    "location = \"Remote\"\n",
    "f_WT = \"2\"  # Remote jobs\n",
    "pages_to_scrape = 1  # Adjust as needed\n",
    "\n",
    "# Scrape job postings\n",
    "jobs_with_descriptions = scrape_jobs_with_descriptions(keywords, location, f_WT, pages_to_scrape, headers)\n",
    "\n",
    "# Extract skills for each job description using the client wrapper\n",
    "for job in jobs_with_descriptions:\n",
    "    skills = extract_skills(job[\"description\"])\n",
    "    job[\"extracted_skills\"] = skills\n",
    "\n",
    "# Print job details with the extracted skills\n",
    "for job in jobs_with_descriptions:\n",
    "    print(job)\n"
   ]
  },
  {
   "cell_type": "code",
   "execution_count": null,
   "metadata": {},
   "outputs": [],
   "source": []
  }
 ],
 "metadata": {
  "kernelspec": {
   "display_name": "linkedin_env",
   "language": "python",
   "name": "python3"
  },
  "language_info": {
   "codemirror_mode": {
    "name": "ipython",
    "version": 3
   },
   "file_extension": ".py",
   "mimetype": "text/x-python",
   "name": "python",
   "nbconvert_exporter": "python",
   "pygments_lexer": "ipython3",
   "version": "3.12.3"
  }
 },
 "nbformat": 4,
 "nbformat_minor": 2
}
